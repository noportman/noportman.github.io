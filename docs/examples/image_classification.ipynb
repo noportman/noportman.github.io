{
 "cells": [
  {
   "cell_type": "markdown",
   "metadata": {
    "deletable": false,
    "editable": false,
    "id": "6gPnbsaceQND",
    "nbgrader": {
     "checksum": "037cc35dce3c9c73bb8791b55f6522d0",
     "grade": false,
     "grade_id": "cell-57f628ac86a92c86",
     "locked": true,
     "schema_version": 1,
     "solution": false
    }
   },
   "source": [
    "# Learning an Image Classification Model from Scratch\n"
   ]
  },
  {
   "cell_type": "markdown",
   "metadata": {
    "id": "MNHIvTzoD3vy"
   },
   "source": [
    "<!-- [![Open in Colab](https://colab.research.google.com/assets/colab-badge.svg)](https://colab.research.google.com/github/noportman/mitxpro/blob/main/files/image_classification.ipynb) -->\n",
    "\n",
    "![Python](https://img.shields.io/badge/Python-3.10-blue)\n",
    "![TensorFlow](https://img.shields.io/badge/TensorFlow-2.x-orange?logo=tensorflow)\n",
    "![Keras](https://img.shields.io/badge/Keras-Deep%20Learning-red?logo=keras)\n",
    "![NumPy](https://img.shields.io/badge/NumPy-Numerical%20Computing-orange?logo=numpy)\n",
    "![Pandas](https://img.shields.io/badge/Pandas-Data%20Wrangling-lightgrey?logo=pandas)\n",
    "![Matplotlib](https://img.shields.io/badge/Matplotlib-Data%20Viz-blue?logo=matplotlib)\n",
    "\n",
    "![Status](https://img.shields.io/badge/Status-Completed-brightgreen)\n",
    "![License](https://img.shields.io/badge/License-MIT-yellow)"
   ]
  },
  {
   "cell_type": "markdown",
   "metadata": {
    "id": "9aw-8aniD7ym"
   },
   "source": [
    "## The Fashion MNIST dataset\n",
    "\n",
    "The [fashion_mnist](https://github.com/zalandoresearch/fashion-mnist) dataset consists of 70,000 images of clothing items across 10 categories.\n",
    "\n",
    "![Fashion](https://production-media.paperswithcode.com/datasets/Fashion-MNIST-0000000040-4a13281a_m8bp4wm.jpg)\n",
    "\n",
    "Luckily for us, this dataset is available in a convenient format through Keras, so we will load it and take a look.\n",
    "\n",
    "But first, let's get the usual technical preliminaries out of the way.\n",
    "\n",
    "As we did previously, we will first import the following packages and set the seed for the random number generator.\n"
   ]
  },
  {
   "cell_type": "code",
   "execution_count": null,
   "metadata": {
    "id": "IdPpU2hHE2AQ"
   },
   "outputs": [],
   "source": [
    "import os\n",
    "import tensorflow as tf\n",
    "from tensorflow import keras\n",
    "import numpy as np\n",
    "import pandas as pd\n",
    "import matplotlib.pyplot as plt\n",
    "\n",
    "os.environ[\"TF_CPP_MIN_LOG_LEVEL\"] = (\n",
    "    \"3\"  # 0 = all logs, 1 = filter INFO, 2 = filter WARNING, 3 = filter ERROR\n",
    ")\n",
    "\n",
    "tf.get_logger().setLevel(\"ERROR\")  # Further suppress TensorFlow logs\n",
    "\n",
    "# initialize the seeds of different random number generators so that the\n",
    "# results will be the same every time the notebook is run\n",
    "# keras.utils.set_random_seed(42)\n",
    "tf.random.set_seed(42)"
   ]
  },
  {
   "cell_type": "markdown",
   "metadata": {
    "id": "dn7MqcJLE6iT"
   },
   "source": [
    "With the technical preliminaries out of the way, let's load the dataset and take a look."
   ]
  },
  {
   "cell_type": "code",
   "execution_count": null,
   "metadata": {
    "colab": {
     "base_uri": "https://localhost:8080/"
    },
    "id": "dRepiUKjE2fW",
    "outputId": "b857fa17-6d67-4efa-ca4f-bd1f78082fc3"
   },
   "outputs": [],
   "source": [
    "# load data into x_train, y_train, x_test, y_test\n",
    "\n",
    "(x_train, y_train), (x_test, y_test) = keras.datasets.fashion_mnist.load_data()"
   ]
  },
  {
   "cell_type": "code",
   "execution_count": null,
   "metadata": {
    "colab": {
     "base_uri": "https://localhost:8080/"
    },
    "id": "8PmlN7yME8MQ",
    "outputId": "1845d9e9-f6b8-42de-d77f-adf3d310eec0"
   },
   "outputs": [],
   "source": [
    "print(x_train.shape, y_train.shape)"
   ]
  },
  {
   "cell_type": "markdown",
   "metadata": {
    "id": "MPs6_3TTE9nR"
   },
   "source": [
    "There are 60,000 images in the training set, each of which is a 28x28 matrix."
   ]
  },
  {
   "cell_type": "code",
   "execution_count": null,
   "metadata": {
    "colab": {
     "base_uri": "https://localhost:8080/"
    },
    "id": "5pudkQqqE9_W",
    "outputId": "66c14d2e-8639-4427-842d-20408127a768"
   },
   "outputs": [],
   "source": [
    "print(x_test.shape, y_test.shape)"
   ]
  },
  {
   "cell_type": "markdown",
   "metadata": {
    "id": "8sERgs8JE_QB"
   },
   "source": [
    "The remaining 10,000 images are in the test set.\n",
    "\n",
    "---\n",
    "OK, let's look at the first 10 rows of the dependent variable  𝑦 .\n"
   ]
  },
  {
   "cell_type": "code",
   "execution_count": null,
   "metadata": {
    "colab": {
     "base_uri": "https://localhost:8080/"
    },
    "id": "u4j_287IFEUi",
    "outputId": "77d521ea-ab57-4073-a466-60f45dd2caf0"
   },
   "outputs": [],
   "source": [
    "y_train[:10]"
   ]
  },
  {
   "cell_type": "markdown",
   "metadata": {
    "id": "w77MrGILFH9X"
   },
   "source": [
    "What do these numbers mean?\n",
    "\n",
    "According to the [fashion_mnist Github site](https://github.com/zalandoresearch/fashion-mnist), this is what each number 0-9 corresponds to:\n",
    "\n",
    "| Label | Description   |\n",
    "|-------|---------------|\n",
    "| 0     | T-shirt/top   |\n",
    "| 1     | Trouser       |\n",
    "| 2     | Pullover      |\n",
    "| 3     | Dress         |\n",
    "| 4     | Coat          |\n",
    "| 5     | Sandal        |\n",
    "| 6     | Shirt         |\n",
    "| 7     | Sneaker       |\n",
    "| 8     | Bag           |\n",
    "| 9     | Ankle boot    |\n"
   ]
  },
  {
   "cell_type": "markdown",
   "metadata": {
    "id": "qe1jxNplFht3"
   },
   "source": [
    "Create a little Python list so that we can go from numbers to descriptions easily."
   ]
  },
  {
   "cell_type": "code",
   "execution_count": null,
   "metadata": {
    "id": "HJ8JySa1FjVv"
   },
   "outputs": [],
   "source": [
    "# Call the list \"labels\"\n",
    "\n",
    "labels = [\n",
    "    \"T-shirt/top\",\n",
    "    \"Trouser\",\n",
    "    \"Pullover\",\n",
    "    \"Dress\",\n",
    "    \"Coat\",\n",
    "    \"Sandal\",\n",
    "    \"Shirt\",\n",
    "    \"Sneaker\",\n",
    "    \"Bag\",\n",
    "    \"Ankle boot\",\n",
    "]"
   ]
  },
  {
   "cell_type": "markdown",
   "metadata": {
    "id": "OhCoX7K1FlJw"
   },
   "source": [
    "Given a number, the description is now a simple look-up. Let's see what the very first training example is about."
   ]
  },
  {
   "cell_type": "code",
   "execution_count": null,
   "metadata": {
    "colab": {
     "base_uri": "https://localhost:8080/",
     "height": 36
    },
    "id": "nojtXCEvFmOb",
    "outputId": "54670be0-bf19-413e-97e6-d2770428a7ac"
   },
   "outputs": [],
   "source": [
    "labels[y_train[0]]"
   ]
  },
  {
   "cell_type": "markdown",
   "metadata": {
    "id": "YZED1eTaFn0f"
   },
   "source": [
    "The very first image is an \"Ankle boot\"!\n",
    "\n",
    "Let's take a look at the raw data for the image."
   ]
  },
  {
   "cell_type": "code",
   "execution_count": null,
   "metadata": {
    "colab": {
     "base_uri": "https://localhost:8080/",
     "height": 67
    },
    "id": "YGPlnHGoFpUI",
    "outputId": "667907a8-d794-4077-8712-807c15bb47f9"
   },
   "outputs": [],
   "source": [
    "x_train[0]"
   ]
  },
  {
   "cell_type": "markdown",
   "metadata": {
    "id": "O3ynvhtVFrLA"
   },
   "source": [
    "Let's look at the first 25 images using the handy `plt.imshow()` command"
   ]
  },
  {
   "cell_type": "code",
   "execution_count": null,
   "metadata": {
    "colab": {
     "base_uri": "https://localhost:8080/",
     "height": 652
    },
    "id": "1On5e5zAF8Zs",
    "outputId": "ff5c97f5-250f-4270-9979-240322e99582"
   },
   "outputs": [],
   "source": [
    "# You'll create two variables namely \"fig\" and \"ax\" as shown in the screencast.\n",
    "\n",
    "fig = plt.figure(figsize=(30, 10))\n",
    "for i in range(25):\n",
    "    ax = fig.add_subplot(5, 5, i + 1, xticks=[], yticks=[])\n",
    "    ax.set_title(f\"{labels[y_train[i]]}\")\n",
    "    ax.imshow(x_train[i], cmap=\"gray\")"
   ]
  },
  {
   "cell_type": "markdown",
   "metadata": {
    "id": "fww7vOx3F_w3"
   },
   "source": [
    "The images are a bit small but they will do for now."
   ]
  },
  {
   "cell_type": "markdown",
   "metadata": {
    "id": "tbGmVTS0GBvT"
   },
   "source": [
    "## A NN Model - First Attempt\n"
   ]
  },
  {
   "cell_type": "markdown",
   "metadata": {
    "id": "tVyEDn3aGT5X"
   },
   "source": [
    "\n",
    "Our first NN will be a simple one with a single hidden layer.\n",
    "\n"
   ]
  },
  {
   "cell_type": "markdown",
   "metadata": {
    "id": "SZGSvgQkGVuM"
   },
   "source": [
    "### Data Prep\n",
    "\n"
   ]
  },
  {
   "cell_type": "markdown",
   "metadata": {
    "id": "n_R5eVuBGYRF"
   },
   "source": [
    "Tip: NNs learn best when each independent variable is in a small range. So, standardize them by either\n",
    "\n",
    "- subtracting the mean and dividing by the standard deviation or\n",
    "- if they are in a guaranteed range, just divide by the max value.\n",
    "\n",
    "The inputs here range from 0 to 255. Let's normalize to the 0-1 range by dividing everything by 255."
   ]
  },
  {
   "cell_type": "code",
   "execution_count": null,
   "metadata": {
    "id": "NH06WjzyGZ-4"
   },
   "outputs": [],
   "source": [
    "# Standardize x_train and x_test\n",
    "\n",
    "x_train = x_train / 255.0\n",
    "x_test = x_test / 255.0"
   ]
  },
  {
   "cell_type": "markdown",
   "metadata": {
    "id": "qqGtYsX3GcDb"
   },
   "source": [
    "### Define Model in Keras"
   ]
  },
  {
   "cell_type": "markdown",
   "metadata": {
    "id": "qLGBV1PbGfBm"
   },
   "source": [
    "As we saw in the previous module, creating an NN is usually just a few lines of Keras code.\n",
    "\n",
    "- The input will be 28 x 28 matrices of numbers. These will have to be flattened into a long vector and then fed to the hidden layer.\n",
    "- We will start with a single hidden layer of 256 ReLU neurons.\n",
    "- Since this is a multi-class classification problem (e.g., we need to predict one of 10 clothing categories), the output layer has to produce a 10-element vector of probabilities that sum up to 1.0 => we will use the softmax layer that we learned about in the previous lecture."
   ]
  },
  {
   "cell_type": "code",
   "execution_count": null,
   "metadata": {
    "id": "ykv_W0FOGnxN"
   },
   "outputs": [],
   "source": [
    "# define the input layer\n",
    "input = keras.Input(shape=(28, 28))\n",
    "\n",
    "# convert the 28 x 28 matrix of numbers into a long vector\n",
    "h = keras.layers.Flatten()(input)\n",
    "\n",
    "# feed the long vector to the hidden layer\n",
    "h = keras.layers.Dense(256, activation=\"relu\", name=\"Hidden\")(h)\n",
    "\n",
    "# feed the output of the hidden layer to the output layer\n",
    "output = keras.layers.Dense(10, activation=\"softmax\", name=\"Output\")(h)\n",
    "\n",
    "# tell Keras that this (input,output) pair is your model\n",
    "model = keras.Model(input, output)"
   ]
  },
  {
   "cell_type": "code",
   "execution_count": null,
   "metadata": {
    "colab": {
     "base_uri": "https://localhost:8080/",
     "height": 262
    },
    "id": "_XJht69OGplW",
    "outputId": "71c1ed05-08a0-4b98-a7e6-cc57819406a1"
   },
   "outputs": [],
   "source": [
    "model.summary()"
   ]
  },
  {
   "cell_type": "markdown",
   "metadata": {
    "id": "LlheZMjXGq_G"
   },
   "source": [
    "Let's hand-calculate the number of parameters to verify."
   ]
  },
  {
   "cell_type": "code",
   "execution_count": null,
   "metadata": {
    "colab": {
     "base_uri": "https://localhost:8080/"
    },
    "id": "D9cnKHaKGsDf",
    "outputId": "7411da2a-889b-4751-f931-edf8d1e7bd7a"
   },
   "outputs": [],
   "source": [
    "# calculate the number of parameters and set the output to \"parameters\"\n",
    "\n",
    "parameters = (784 * 256 + 256) + (256 * 10 + 10)\n",
    "\n",
    "print(parameters)"
   ]
  },
  {
   "cell_type": "markdown",
   "metadata": {
    "id": "UNxjD1BVG1gH"
   },
   "source": [
    "### Set Optimization Parameters"
   ]
  },
  {
   "cell_type": "markdown",
   "metadata": {
    "id": "mkS-nK6xG38f"
   },
   "source": [
    "Now that the model is defined, we need to tell Keras three things:\n",
    "\n",
    "- What loss function to use\n",
    "- Which optimizer to use - we will again use Adam which is an excellent set-and-forget choice\n",
    "- What metrics you want Keras to report out - in classification problems like this one, Accuracy is usually the metric you want to see."
   ]
  },
  {
   "cell_type": "markdown",
   "metadata": {
    "id": "JwluNJxZG8lQ"
   },
   "source": [
    "Since our output variable is categorical with 10 levels, we will select the `sparse_categorical_crossentropy` loss function."
   ]
  },
  {
   "cell_type": "code",
   "execution_count": null,
   "metadata": {
    "id": "Gv_KoLzJGvwU"
   },
   "outputs": [],
   "source": [
    "# Compile your model\n",
    "model.compile(\n",
    "    loss=\"sparse_categorical_crossentropy\", optimizer=\"adam\", metrics=[\"accuracy\"]\n",
    ")"
   ]
  },
  {
   "cell_type": "markdown",
   "metadata": {
    "id": "wc_4qfegHB8S"
   },
   "source": [
    "### Train the Model!"
   ]
  },
  {
   "cell_type": "markdown",
   "metadata": {
    "id": "fJ43mvTlHD_a"
   },
   "source": [
    "- The batch size: 32 or 64 are commonly used\n",
    "- The number of epochs i.e., how many passes through the training data: start with 10-20.\n",
    "\n",
    "\n",
    "---\n",
    "\n",
    "OK, let's train the model using the `model.fit` function!"
   ]
  },
  {
   "cell_type": "code",
   "execution_count": null,
   "metadata": {
    "colab": {
     "base_uri": "https://localhost:8080/"
    },
    "id": "pRJwhIL7HMEH",
    "outputId": "1796cf05-e84e-46cb-ff10-7d06ebdc2d95"
   },
   "outputs": [],
   "source": [
    "# fit your model first try with a batch size of 32 and 10 epochs\n",
    "\n",
    "batch_size = 64\n",
    "epochs = 10\n",
    "\n",
    "model.fit(x_train, y_train, batch_size=batch_size, epochs=epochs, verbose=2)"
   ]
  },
  {
   "cell_type": "markdown",
   "metadata": {
    "id": "RCWJZ_T0HAjH"
   },
   "source": [
    "### Evaluate the\n",
    "\n",
    "You can see from the above that our model achieves over 91% accuracy on the train set but, as we know, doing well on the training set isn't all that impressive due to the possibility of overfitting. So the real question is how well does it do on the test set?\n",
    "\n",
    "`model.evaluate` is a very handy function to calculate the performance of your model on any dataset."
   ]
  },
  {
   "cell_type": "code",
   "execution_count": null,
   "metadata": {
    "colab": {
     "base_uri": "https://localhost:8080/"
    },
    "id": "W_UThwuDHTuH",
    "outputId": "87fc1f77-932c-4df5-f4c8-29da56ce58c0"
   },
   "outputs": [],
   "source": [
    "# Evaluate model on test data set\n",
    "model.evaluate(x_test, y_test, verbose=2)"
   ]
  },
  {
   "cell_type": "markdown",
   "metadata": {
    "id": "rgTfNkdeHXhQ"
   },
   "source": [
    "\n",
    "\n",
    "---\n",
    "\n",
    "Did the NNs we create take advantage of the fact that the input data is images?"
   ]
  },
  {
   "cell_type": "markdown",
   "metadata": {
    "id": "iTnHjNYxIIG2"
   },
   "source": [
    "## A Convolutional Neural Network"
   ]
  },
  {
   "cell_type": "markdown",
   "metadata": {
    "id": "GqMaAfp6IKjd"
   },
   "source": [
    "## Convolutional Layers"
   ]
  },
  {
   "cell_type": "markdown",
   "metadata": {
    "id": "dhMfW9k6IOrm"
   },
   "source": [
    "Convolutional (typically abbreviated to \"conv\") layers were the key breakthrough that led to all the exciting advances in AI for Computer Vision problems like Image Classification, Image Recognition etc. They were designed to specifically work with images.\n",
    "\n",
    "Conv layers are the reason why your iPhone can recognize your face!"
   ]
  },
  {
   "cell_type": "markdown",
   "metadata": {
    "id": "IugISxB5IRZ2"
   },
   "source": [
    "We will follow the same sequence of steps as we did above:\n",
    "\n",
    "- Data Prep\n",
    "- Define Model\n",
    "- Set Optimization Parameters\n",
    "- Train Model\n",
    "- Evaluate Model"
   ]
  },
  {
   "cell_type": "markdown",
   "metadata": {
    "id": "fqs45iNlIWBf"
   },
   "source": [
    "## Data Prep"
   ]
  },
  {
   "cell_type": "markdown",
   "metadata": {
    "id": "MzI582S6IY78"
   },
   "source": [
    "The data has already been normalized so that the numbers are between 0 and 1. We don't need to do it again."
   ]
  },
  {
   "cell_type": "code",
   "execution_count": null,
   "metadata": {
    "colab": {
     "base_uri": "https://localhost:8080/"
    },
    "id": "VSIwgs9GHXOn",
    "outputId": "5b2d47e3-bbee-4adc-ad11-6a8e18b7c0c3"
   },
   "outputs": [],
   "source": [
    "x_train.shape"
   ]
  },
  {
   "cell_type": "markdown",
   "metadata": {
    "id": "wcuXkj-HIa69"
   },
   "source": [
    "For reasons that will become clear when you work with color images, we also need to add another dimension to each example so that it goes from 28x28 to 28x28x1"
   ]
  },
  {
   "cell_type": "code",
   "execution_count": null,
   "metadata": {
    "id": "uTU1_cKMIhsI"
   },
   "outputs": [],
   "source": [
    "# add another dimension to x_train and x_test\n",
    "\n",
    "x_train = np.expand_dims(x_train, -1)\n",
    "x_test = np.expand_dims(x_test, -1)"
   ]
  },
  {
   "cell_type": "code",
   "execution_count": null,
   "metadata": {
    "colab": {
     "base_uri": "https://localhost:8080/"
    },
    "id": "F1M6feHMIjVu",
    "outputId": "52ebe21e-1043-4c1d-8ddb-9cfac6e90658"
   },
   "outputs": [],
   "source": [
    "x_train.shape"
   ]
  },
  {
   "cell_type": "markdown",
   "metadata": {
    "id": "zD6t_K-rIe60"
   },
   "source": [
    "## Define Model"
   ]
  },
  {
   "cell_type": "markdown",
   "metadata": {
    "id": "9CYxBBllIolG"
   },
   "source": [
    "OK, we are ready to create our very first **Convolutional Neural Network (CNN)!**"
   ]
  },
  {
   "cell_type": "code",
   "execution_count": null,
   "metadata": {
    "id": "gzHJu8XFIl_-"
   },
   "outputs": [],
   "source": [
    "input = keras.Input(shape=x_train.shape[1:])\n",
    "\n",
    "# first convolutional block\n",
    "x = keras.layers.Conv2D(32, kernel_size=(2, 2), activation=\"relu\", name=\"Conv_1\")(\n",
    "    input\n",
    ")  # convolutional layer\n",
    "x = keras.layers.MaxPool2D()(x)  # pooling layer\n",
    "\n",
    "# second convolutional block\n",
    "x = keras.layers.Conv2D(32, kernel_size=(2, 2), activation=\"relu\", name=\"Conv_2\")(\n",
    "    x\n",
    ")  # convolutional layer\n",
    "x = keras.layers.MaxPool2D()(x)  # pooling layer\n",
    "\n",
    "# Flatten the layers\n",
    "x = keras.layers.Flatten()(x)\n",
    "x = keras.layers.Dense(256, activation=\"relu\")(x)\n",
    "\n",
    "# create an output called \"output\"\n",
    "output = keras.layers.Dense(10, activation=\"softmax\")(x)\n",
    "\n",
    "model = keras.Model(input, output)"
   ]
  },
  {
   "cell_type": "code",
   "execution_count": null,
   "metadata": {
    "colab": {
     "base_uri": "https://localhost:8080/",
     "height": 393
    },
    "id": "k4uzAvotIz3W",
    "outputId": "05fc397b-a5db-49c1-8c6b-7e3100ffebed"
   },
   "outputs": [],
   "source": [
    "model.summary()"
   ]
  },
  {
   "cell_type": "markdown",
   "metadata": {
    "id": "G5gHQeMVI4T_"
   },
   "source": [
    "## Set Optimization Parameters"
   ]
  },
  {
   "cell_type": "code",
   "execution_count": null,
   "metadata": {
    "id": "JpxLR6XHI7I6"
   },
   "outputs": [],
   "source": [
    "# Compile model using sparse_categorical_crossentropy\n",
    "# and adam, and accuracy as a metric\n",
    "model.compile(\n",
    "    loss=\"sparse_categorical_crossentropy\", optimizer=\"adam\", metrics=[\"accuracy\"]\n",
    ")"
   ]
  },
  {
   "cell_type": "markdown",
   "metadata": {
    "id": "hhtbKimJI7o-"
   },
   "source": [
    "## Train the Model"
   ]
  },
  {
   "cell_type": "markdown",
   "metadata": {
    "id": "aeiExq0BI_M3"
   },
   "source": [
    "DISCLAIMER: This will take some time to complete"
   ]
  },
  {
   "cell_type": "code",
   "execution_count": null,
   "metadata": {
    "colab": {
     "base_uri": "https://localhost:8080/"
    },
    "id": "sWjtEJibJA6y",
    "outputId": "29a69f24-d219-448a-b9ef-dbc666f98134"
   },
   "outputs": [],
   "source": [
    "# Train the model with either 32 or 64 as the batch size and using 10 epochs\n",
    "\n",
    "model.fit(x_train, y_train, batch_size=64, epochs=10, verbose=2)"
   ]
  },
  {
   "cell_type": "markdown",
   "metadata": {
    "id": "Ie7sk5b0JC6J"
   },
   "source": [
    "## Evaluate the Model"
   ]
  },
  {
   "cell_type": "code",
   "execution_count": null,
   "metadata": {
    "colab": {
     "base_uri": "https://localhost:8080/"
    },
    "id": "oCKeIVPPJFTN",
    "outputId": "61fdc2ad-4361-4fc1-926a-c3942601daf2"
   },
   "outputs": [],
   "source": [
    "# Get the score of the model\n",
    "score = model.evaluate(x_test, y_test, verbose=2)\n",
    "print(\"Test accuracy:\", score[1])"
   ]
  },
  {
   "cell_type": "markdown",
   "metadata": {
    "id": "sUbAmJMCJG9v"
   },
   "source": [
    "Back to Fashion MNIST. Let's see what the [state of the art (SOTA)](https://www.google.com/url?q=https%3A%2F%2Fpaperswithcode.com%2Fsota%2Fimage-classification-on-fashion-mnist) accuracy is.\n",
    "\n",
    "It is **96.91%!**\n",
    "\n",
    "**Challenge: Can you get to SOTA by playing around with the architecture of the network?**"
   ]
  },
  {
   "cell_type": "markdown",
   "metadata": {
    "id": "O--sjiHUJRii"
   },
   "source": [
    "## Conclusion\n",
    "We have built a Deep Learning model that can classify grayscale images of clothing items with over 90% accuracy!!"
   ]
  }
 ],
 "metadata": {
  "colab": {
   "provenance": []
  },
  "kernelspec": {
   "display_name": "mkdocs",
   "language": "python",
   "name": "python3"
  },
  "language_info": {
   "codemirror_mode": {
    "name": "ipython",
    "version": 3
   },
   "file_extension": ".py",
   "mimetype": "text/x-python",
   "name": "python",
   "nbconvert_exporter": "python",
   "pygments_lexer": "ipython3",
   "version": "3.11.11"
  }
 },
 "nbformat": 4,
 "nbformat_minor": 0
}
