{
 "cells": [
  {
   "cell_type": "markdown",
   "metadata": {
    "id": "mYeHzT7GQ98V"
   },
   "source": [
    "# Data Cleaning, EDA, and Statistical Modeling Workbook"
   ]
  },
  {
   "cell_type": "markdown",
   "metadata": {
    "id": "XJrI9mgn9uyW"
   },
   "source": [
    "[![Open in Colab](https://colab.research.google.com/assets/colab-badge.svg)](https://githubtocolab.com/noportman/noportman.github.io/blob/main/docs/notebooks/prescriptive_model.ipynb)\n",
    "\n",
    "![Python](https://img.shields.io/badge/Python-3.10-blue)\n",
    "![NumPy](https://img.shields.io/badge/NumPy-Numerical%20Computing-orange?logo=numpy)\n",
    "![Pandas](https://img.shields.io/badge/Pandas-Data%20Analysis-lightgrey?logo=pandas)\n",
    "![Matplotlib](https://img.shields.io/badge/Matplotlib-Visualization-blue?logo=matplotlib)\n",
    "![Seaborn](https://img.shields.io/badge/Seaborn-Statistical%20Visualization-9b59b6?logo=seaborn)\n",
    "![SciPy](https://img.shields.io/badge/SciPy-Statistical%20Functions-lightblue?logo=scipy)\n",
    "![scikit-learn](https://img.shields.io/badge/scikit--learn-ML%20Toolkit-f7931e?logo=scikit-learn)\n",
    "![Statsmodels](https://img.shields.io/badge/Statsmodels-Statistical%20Modeling-lightgreen)\n",
    "![chardet](https://img.shields.io/badge/chardet-Encoding%20Detection-lightblue)\n",
    "![codecs](https://img.shields.io/badge/codecs-Text%20Encoding-grey)\n",
    "![skimpy](https://img.shields.io/badge/skimpy-Data%20Summary-teal)\n",
    "\n",
    "![Status](https://img.shields.io/badge/Status-Completed-brightgreen)\n",
    "![License](https://img.shields.io/badge/License-MIT-yellow)"
   ]
  },
  {
   "cell_type": "markdown",
   "metadata": {
    "id": "t8zcJ1EfRJUz"
   },
   "source": [
    "This notebook walks through a full data analysis pipeline — from raw data ingestion and encoding detection to exploratory data analysis (EDA), statistical modeling, and model performance evaluation. Key tools include `chardet` and `codecs` for encoding detection, `pandas` and `skimpy` for data exploration, `statsmodels` for linear and logistic regression, and `scikit-learn` for evaluation metrics such as confusion matrices and accuracy scores."
   ]
  },
  {
   "cell_type": "code",
   "execution_count": null,
   "metadata": {
    "colab": {
     "base_uri": "https://localhost:8080/"
    },
    "id": "qX_yWVG8h8J9",
    "outputId": "6ae53b4a-d90b-452a-928c-0500eaa1aca1"
   },
   "outputs": [],
   "source": [
    "# Install dependencies, if needed\n",
    "!pip install skimpy"
   ]
  },
  {
   "cell_type": "code",
   "execution_count": null,
   "metadata": {
    "colab": {
     "base_uri": "https://localhost:8080/",
     "height": 206
    },
    "id": "hrpah9R7imgf",
    "outputId": "d1a82cfe-a3c1-4905-ce92-fbf18b20c678"
   },
   "outputs": [],
   "source": [
    "import chardet\n",
    "import pandas as pd\n",
    "\n",
    "# Read the CSV file using the detected encoding and specifying the delimiter\n",
    "\n",
    "url = \"https://docs.google.com/spreadsheets/d/10L8BpkV4q1Zsou4daYoWul_8PFA9rsv2/export?format=csv&id=10L8BpkV4q1Zsou4daYoWul_8PFA9rsv2&gid=1710894028\"\n",
    "df = pd.read_csv(url, index_col=False)\n",
    "\n",
    "df.head()"
   ]
  },
  {
   "cell_type": "code",
   "execution_count": null,
   "metadata": {
    "colab": {
     "base_uri": "https://localhost:8080/",
     "height": 442
    },
    "id": "3U4rwyazi6zF",
    "outputId": "d8a923a1-1347-4d31-9c05-acc80afef059"
   },
   "outputs": [],
   "source": [
    "# imports packages to be used in the code\n",
    "import numpy as np\n",
    "import codecs\n",
    "import pandas as pd\n",
    "import matplotlib.pyplot as plt\n",
    "import seaborn as sns\n",
    "import statsmodels.api as sm\n",
    "import sklearn as skl\n",
    "from statsmodels.formula.api import ols\n",
    "from statsmodels.formula.api import logit\n",
    "from scipy.stats import norm\n",
    "from sklearn.model_selection import train_test_split\n",
    "from sklearn.metrics import ConfusionMatrixDisplay\n",
    "from sklearn.metrics import confusion_matrix\n",
    "from sklearn.metrics import accuracy_score\n",
    "from skimpy import skim\n",
    "\n",
    "print(skl.__version__)\n",
    "\n",
    "df"
   ]
  },
  {
   "cell_type": "code",
   "execution_count": null,
   "metadata": {
    "colab": {
     "base_uri": "https://localhost:8080/"
    },
    "id": "JrN9fkVqjMb2",
    "outputId": "0afe7fa2-0309-439d-af3b-aa7446598741"
   },
   "outputs": [],
   "source": [
    "!pip install wget"
   ]
  },
  {
   "cell_type": "code",
   "execution_count": null,
   "metadata": {
    "colab": {
     "base_uri": "https://localhost:8080/",
     "height": 238
    },
    "id": "R1RLZanRjP9j",
    "outputId": "7e23a71e-0816-4ac8-fec0-c5f41a67d52a"
   },
   "outputs": [],
   "source": [
    "# shows first 6 rows of dataframe\n",
    "df.head(6)"
   ]
  },
  {
   "cell_type": "code",
   "execution_count": null,
   "metadata": {
    "colab": {
     "base_uri": "https://localhost:8080/",
     "height": 238
    },
    "id": "GyPbUclijP11",
    "outputId": "a2aa5c8e-00bb-4d29-9aa9-8325e033eb4b"
   },
   "outputs": [],
   "source": [
    "df.tail(6)"
   ]
  },
  {
   "cell_type": "code",
   "execution_count": null,
   "metadata": {
    "id": "46fhIIGLjS_X"
   },
   "outputs": [],
   "source": [
    "df = df[[\"default\", \"fico_score\"]]"
   ]
  },
  {
   "cell_type": "code",
   "execution_count": null,
   "metadata": {
    "colab": {
     "base_uri": "https://localhost:8080/",
     "height": 424
    },
    "id": "X8d3mmQqjib3",
    "outputId": "edd666ce-c0f8-40ad-87f6-ab651718b131"
   },
   "outputs": [],
   "source": [
    "df"
   ]
  },
  {
   "cell_type": "code",
   "execution_count": null,
   "metadata": {
    "colab": {
     "base_uri": "https://localhost:8080/",
     "height": 273
    },
    "id": "E83zQtVpjlBd",
    "outputId": "c25e79c5-74f9-4af6-ec5c-5bb39acb76d3"
   },
   "outputs": [],
   "source": [
    "skim(df)"
   ]
  },
  {
   "cell_type": "code",
   "execution_count": null,
   "metadata": {
    "colab": {
     "base_uri": "https://localhost:8080/",
     "height": 490
    },
    "id": "Gw8S1aHejx9t",
    "outputId": "f7d38243-e96d-4aa0-ae87-f5f44c456f00"
   },
   "outputs": [],
   "source": [
    "# plot target variable\n",
    "# plt.scatter(df['default'], df['inquiries'],alpha =0.0, s=200)\n",
    "# df = pd.read_excel('loans.xlsx')\n",
    "plt.scatter(df[\"default\"], df[\"fico_score\"], alpha=1.0, s=200)\n",
    "plt.title(\"fico vs. default\")\n",
    "plt.xlabel(\"default\")\n",
    "plt.ylabel(\"fico\")"
   ]
  },
  {
   "cell_type": "code",
   "execution_count": null,
   "metadata": {
    "id": "Wq_bqwGCj8Dx"
   },
   "outputs": [],
   "source": [
    "# data split into 70% train and 30% test\n",
    "df_train, df_test = train_test_split(df, test_size=0.3)"
   ]
  },
  {
   "cell_type": "code",
   "execution_count": null,
   "metadata": {
    "colab": {
     "base_uri": "https://localhost:8080/"
    },
    "id": "7zfH3zjKj_Kh",
    "outputId": "047b9d39-3ef6-4f15-c008-cab379defb96"
   },
   "outputs": [],
   "source": [
    "print(df_train)\n",
    "# Save the DataFrame to a CSV file\n",
    "# Replace 'file_path' with the path where you want to save the file\n",
    "file_path = \"df_train.csv\"\n",
    "df_train.to_csv(file_path, index=False)"
   ]
  },
  {
   "cell_type": "code",
   "execution_count": null,
   "metadata": {
    "colab": {
     "base_uri": "https://localhost:8080/",
     "height": 273
    },
    "id": "vddUjxi9kD3v",
    "outputId": "3c400b90-e442-47ec-8d88-4085f33c772c"
   },
   "outputs": [],
   "source": [
    "skim(df_train)"
   ]
  },
  {
   "cell_type": "code",
   "execution_count": null,
   "metadata": {
    "colab": {
     "base_uri": "https://localhost:8080/",
     "height": 273
    },
    "id": "qg515NW4kGXd",
    "outputId": "bb470ea0-9446-40bc-8d9f-ba848f783ddf"
   },
   "outputs": [],
   "source": [
    "skim(df_test)"
   ]
  },
  {
   "cell_type": "code",
   "execution_count": null,
   "metadata": {
    "colab": {
     "base_uri": "https://localhost:8080/"
    },
    "id": "MUrN98KrkT4s",
    "outputId": "fadc4af0-e839-4cf0-8b18-f64d4fa21812"
   },
   "outputs": [],
   "source": [
    "# build formula,  target (dependent variable) ~ features (independent variables)\n",
    "# build model, fit the formula to the training data using a logistic algorithm (logit)\n",
    "est = logit(formula=\"default ~ fico_score\", data=df_train).fit()\n",
    "\n",
    "# print the results of the model (est).\n",
    "# Examine; Pseudo R-square\n",
    "\n",
    "print(est.summary())"
   ]
  },
  {
   "cell_type": "code",
   "execution_count": null,
   "metadata": {
    "colab": {
     "base_uri": "https://localhost:8080/",
     "height": 238
    },
    "id": "UO4SpY7rklFx",
    "outputId": "1379b3e0-ada2-4cae-e7a4-0fa1fcde19fb"
   },
   "outputs": [],
   "source": [
    "# apply the model (est) to the test data and make predictions\n",
    "preds = est.predict(df_test)\n",
    "df_test[\"predicted_probability\"] = preds\n",
    "\n",
    "# print top 6 predicted probabilities\n",
    "df_test.head(6)"
   ]
  },
  {
   "cell_type": "code",
   "execution_count": null,
   "metadata": {
    "colab": {
     "base_uri": "https://localhost:8080/"
    },
    "id": "k5sV9ONokqbD",
    "outputId": "adf91d06-59a9-4438-be7c-4803d4c78c7f"
   },
   "outputs": [],
   "source": [
    "# test for 'predicted_probability > 0.5, if yes assign will_default to 1, otherwise to 0\n",
    "df_test[\"will_default\"] = np.where(df_test[\"predicted_probability\"] > 0.25, 1, 0)\n",
    "df_test.head(6)\n",
    "print(df_test)"
   ]
  },
  {
   "cell_type": "code",
   "execution_count": null,
   "metadata": {
    "colab": {
     "base_uri": "https://localhost:8080/",
     "height": 490
    },
    "id": "38hmWlXEkyMZ",
    "outputId": "f7ffe25e-2ca6-40b9-e32e-387f43546e35"
   },
   "outputs": [],
   "source": [
    "# Evaluation Metrics\n",
    "# print confusion matrix with labels\n",
    "\n",
    "# Plot the confusion matrix with the custom Seaborn-based colormap\n",
    "disp = ConfusionMatrixDisplay.from_predictions(\n",
    "    df_test[\"default\"],\n",
    "    df_test[\"will_default\"],\n",
    "    display_labels=[\"No Default\", \"Default\"],\n",
    "    cmap=\"Blues\",\n",
    ")\n",
    "\n",
    "plt.title(\"Confusion Matrix\")\n",
    "plt.show()\n",
    "\n",
    "# print accuracy\n",
    "print(\"Accuracy: \" + str(accuracy_score(df_test[\"default\"], df_test[\"will_default\"])))"
   ]
  },
  {
   "cell_type": "code",
   "execution_count": null,
   "metadata": {
    "colab": {
     "base_uri": "https://localhost:8080/",
     "height": 472
    },
    "id": "-bmqSK7kpnY0",
    "outputId": "9162cd2a-11b2-4e36-aa8d-74b83582534b"
   },
   "outputs": [],
   "source": [
    "matrix = confusion_matrix(df_test[\"default\"], df_test[\"will_default\"])\n",
    "\n",
    "# Normalize the matrix to get percentages\n",
    "normalized_matrix = matrix / np.sum(matrix)\n",
    "\n",
    "# Create label overlay\n",
    "labels = [\"True Neg\", \"False Pos\", \"False Neg\", \"True Pos\"]\n",
    "labels = np.asarray(labels).reshape(2, 2)\n",
    "\n",
    "# Format labels with percentages + class names\n",
    "annot = np.empty_like(labels, dtype=object)\n",
    "for i in range(2):\n",
    "    for j in range(2):\n",
    "        annot[i, j] = f\"{labels[i, j]}\\n{normalized_matrix[i, j]:.2%}\"\n",
    "\n",
    "# Plot heatmap with combined labels and percentages\n",
    "sns.heatmap(normalized_matrix, annot=annot, fmt=\"\", cmap=\"Blues\", cbar=False)\n",
    "\n",
    "plt.title(\"Confusion Matrix with Custom Labels\")\n",
    "plt.xlabel(\"Predicted Label\")\n",
    "plt.ylabel(\"True Label\")\n",
    "plt.xticks([0.5, 1.5], [\"No Default\", \"Default\"])\n",
    "plt.yticks([0.5, 1.5], [\"No Default\", \"Default\"], rotation=0)\n",
    "plt.show()"
   ]
  }
 ],
 "metadata": {
  "colab": {
   "authorship_tag": "ABX9TyMXVLcWeyZYK8oTAjz+mqXv",
   "provenance": []
  },
  "kernelspec": {
   "display_name": "Python 3",
   "name": "python3"
  },
  "language_info": {
   "name": "python"
  }
 },
 "nbformat": 4,
 "nbformat_minor": 0
}
