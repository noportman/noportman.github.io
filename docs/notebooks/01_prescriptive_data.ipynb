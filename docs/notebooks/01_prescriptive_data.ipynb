{
 "cells": [
  {
   "cell_type": "markdown",
   "metadata": {
    "id": "SfG61sG7Qvho"
   },
   "source": [
    "# Optimizing Patient Scheduling with Binomial Probability"
   ]
  },
  {
   "cell_type": "markdown",
   "metadata": {
    "id": "xuoWBcrZ-OaT"
   },
   "source": [
    "[![Open in Colab](https://colab.research.google.com/assets/colab-badge.svg)](https://githubtocolab.com/noportman/noportman.github.io/blob/main/docs/notebooks/01_prescriptive_data.ipynb)\n",
    "\n",
    "![Python](https://img.shields.io/badge/Python-3.10-blue)\n",
    "![SciPy](https://img.shields.io/badge/SciPy-Scientific%20Computing-blue?logo=scipy)\n",
    "![Binomial Distribution](https://img.shields.io/badge/Stats-Binomial%20Dist-orange)\n",
    "![Matplotlib](https://img.shields.io/badge/Matplotlib-Data%20Viz-blue?logo=matplotlib)\n",
    "\n",
    "![Status](https://img.shields.io/badge/Status-Completed-brightgreen)\n",
    "![License](https://img.shields.io/badge/License-MIT-yellow)"
   ]
  },
  {
   "cell_type": "markdown",
   "metadata": {
    "id": "hsRQMR6TRk-f"
   },
   "source": [
    "## Introduction\n",
    "\n",
    "This notebook contains a real-world application of the **binomial distribution** to help a physician optimize daily patient bookings. The physician sees **30 patients per day**, but due to a consistent **25% no-show rate**, there is a significant loss in efficiency and revenue.\n",
    "\n"
   ]
  },
  {
   "cell_type": "markdown",
   "metadata": {
    "id": "1kEZQglxNHQL"
   },
   "source": [
    "**Knowns**:\n",
    "- A physician's workload is 30 patients per day.\n",
    "- Unfortunately, because of no-shows, about 25% of patients fail to show up to their appointments leading to loss revenue for the physician.\n",
    "\n",
    "**Unknowns**:\n",
    "- The ideal amount of patient bookings per day.\n",
    "\n",
    "We can use python to intuitively calculate how many patients the physician should book to stay busy if only 75% of scheduled patients show up."
   ]
  },
  {
   "cell_type": "markdown",
   "metadata": {},
   "source": [
    "## Technical preliminaries"
   ]
  },
  {
   "cell_type": "code",
   "execution_count": null,
   "metadata": {
    "id": "eHIUZaegNJ-q"
   },
   "outputs": [],
   "source": [
    "import scipy\n",
    "from scipy.stats import binom"
   ]
  },
  {
   "cell_type": "markdown",
   "metadata": {},
   "source": [
    "## Setting Up the Problem"
   ]
  },
  {
   "cell_type": "code",
   "execution_count": null,
   "metadata": {},
   "outputs": [],
   "source": [
    "# Max number of patients per day\n",
    "workload = 30\n",
    "\n",
    "# Percentage of patients that show up\n",
    "prob = 0.75\n",
    "\n",
    "# Set \"ans\" as the answer\n",
    "ans = workload / prob"
   ]
  },
  {
   "cell_type": "code",
   "execution_count": null,
   "metadata": {
    "colab": {
     "base_uri": "https://localhost:8080/"
    },
    "id": "vIekSoVtNN8C",
    "outputId": "1bc716c5-0f45-45cc-b8ef-92f79a45c2b7"
   },
   "outputs": [],
   "source": [
    "print(ans)"
   ]
  },
  {
   "cell_type": "markdown",
   "metadata": {
    "id": "hlEQ1WsQNUQz"
   },
   "source": [
    "## Binomial Distribution Model\n",
    "\n",
    "Because we are using *historical data* to assume 25% of patients no-show, this is a binomial distribution model. Similarly to how we calculate the normal distribution's Cumulative Density Function (CMF) and Probability Density Function (PDF), we can do the same for this normal distribution.\n",
    "\n",
    "First fill in the x and probability values to display the normal distribution of the linearly calculated value we found in the previous step."
   ]
  },
  {
   "cell_type": "code",
   "execution_count": null,
   "metadata": {
    "colab": {
     "base_uri": "https://localhost:8080/",
     "height": 430
    },
    "id": "gXBz19iINTF5",
    "outputId": "cc0b61c0-c18b-4e62-cad1-4dd80d0e3b5c"
   },
   "outputs": [],
   "source": [
    "import matplotlib.pyplot as plt\n",
    "\n",
    "# set  the values of x and prob\n",
    "x = 40\n",
    "prob = 0.75\n",
    "\n",
    "# defining list of r values\n",
    "r_values = list(range(x + 1))\n",
    "\n",
    "# generate the \"dist\" variable by calling the binom.pmf() function below. this will be the list of pmf values\n",
    "dist = [binom.pmf(r, x, prob) for r in r_values]\n",
    "\n",
    "# Plotting the graph. Do not change. Used for grading\n",
    "plots = plt.bar(r_values, dist)\n",
    "xy = []\n",
    "for plot in plots:\n",
    "    xy.append(plot.get_xy())\n",
    "plt.show()"
   ]
  },
  {
   "cell_type": "markdown",
   "metadata": {},
   "source": [
    "## Solution"
   ]
  },
  {
   "cell_type": "markdown",
   "metadata": {
    "id": "dYAHVufxNXGj"
   },
   "source": [
    "Next, use Python's scipy.stats.binom package to get more insight of the situation. Find the cumulative density function to statistically calculate how much (in percent) will the physician be overbooked if we use the linear calculations from the first step to overbook patients."
   ]
  },
  {
   "cell_type": "code",
   "execution_count": null,
   "metadata": {
    "id": "T6BE8t4eNcAw"
   },
   "outputs": [],
   "source": [
    "# Fill in your linear prediction\n",
    "linearPrediction = 40\n",
    "workload = 30\n",
    "prob = 0.75\n",
    "\n",
    "# Find the amount overworked by calculating 1 - cdf(). Set the output to a variable called \"overworked\"\n",
    "overworked = 1 - binom.cdf(workload, linearPrediction, prob)"
   ]
  },
  {
   "cell_type": "code",
   "execution_count": null,
   "metadata": {
    "colab": {
     "base_uri": "https://localhost:8080/"
    },
    "id": "6QHcACIyNdWL",
    "outputId": "19b24f66-778c-4cca-deee-522ebc0bca8a"
   },
   "outputs": [],
   "source": [
    "print(overworked)"
   ]
  },
  {
   "cell_type": "markdown",
   "metadata": {
    "id": "UMVJMhYxNg1P"
   },
   "source": [
    "Finally, we can use the binomial ppf() function to find the number of appointments the physician should book if she wants to limit the risk of having more than 30 appointments per day to 5%"
   ]
  },
  {
   "cell_type": "code",
   "execution_count": null,
   "metadata": {
    "id": "tTuLHmt3Ni2m"
   },
   "outputs": [],
   "source": [
    "workload = 30\n",
    "prob = 0.75\n",
    "\n",
    "# Target amount of overbooked patients\n",
    "target = 0.05\n",
    "\n",
    "# Set \"total\" = workload + ppf()\n",
    "total = workload + binom.ppf(target, workload, 1 - prob)"
   ]
  },
  {
   "cell_type": "code",
   "execution_count": null,
   "metadata": {
    "colab": {
     "base_uri": "https://localhost:8080/"
    },
    "id": "2UnkU_eNNkVt",
    "outputId": "bd558bad-5fff-4060-d3aa-e2ecdb8ce6be"
   },
   "outputs": [],
   "source": [
    "print(total)"
   ]
  }
 ],
 "metadata": {
  "colab": {
   "provenance": []
  },
  "kernelspec": {
   "display_name": "Python 3",
   "name": "python3"
  },
  "language_info": {
   "name": "python"
  }
 },
 "nbformat": 4,
 "nbformat_minor": 0
}
