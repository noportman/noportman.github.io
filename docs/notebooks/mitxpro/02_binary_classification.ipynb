{
  "cells": [
    {
      "cell_type": "markdown",
      "metadata": {
        "id": "MGL2uOuhNoYV"
      },
      "source": [
        "# Binary Classification on Tabular Data - Predicting Abnormal ECG Scans\n",
        "\n"
      ]
    },
    {
      "cell_type": "markdown",
      "metadata": {
        "id": "R08X1ZTM7Q7R"
      },
      "source": [
        "[![Open in Colab](https://colab.research.google.com/assets/colab-badge.svg)](https://githubtocolab.com/snowport/snowport.github.io/blob/main/docs/notebooks/mitxpro/02_binary_classification.ipynb)"
      ]
    },
    {
      "cell_type": "markdown",
      "metadata": {
        "id": "7m0fkGCQNlzc"
      },
      "source": [
        "## Introduction\n",
        "\n",
        "In this notebook, you will train an autoencoder to detect anomalies on the ECG5000 dataset. This dataset contains 5,000 Electrocardiograms, each with 140 data points. You will use a simplified version of the dataset, where each example has been labeled either 0 (corresponding to an abnormal rhythm), or 1 (corresponding to a normal rhythm). You are interested in identifying the abnormal rhythms."
      ]
    },
    {
      "cell_type": "markdown",
      "metadata": {
        "id": "o8us-geJNrrP"
      },
      "source": [
        "## Technical preliminaries"
      ]
    },
    {
      "cell_type": "code",
      "execution_count": 1,
      "metadata": {
        "id": "W-5CngkPJs8N"
      },
      "outputs": [],
      "source": [
        "import tensorflow as tf\n",
        "from tensorflow import keras\n",
        "import numpy as np\n",
        "import pandas as pd\n",
        "import matplotlib.pyplot as plt\n",
        "\n",
        "# initialize the seeds of different random number generators so that the\n",
        "# results will be the same every time the notebook is run\n",
        "tf.random.set_seed(42)\n",
        "\n",
        "pd.options.mode.chained_assignment = None"
      ]
    },
    {
      "cell_type": "markdown",
      "metadata": {
        "id": "Z0c6Oy0gNxD5"
      },
      "source": [
        "## Read in the data\n",
        "\n",
        "Conveniently, the dataset in CSV form has been made available online and we can load it into a Pandas dataframe with the very useful `pd.read_csv` command."
      ]
    },
    {
      "cell_type": "code",
      "execution_count": 2,
      "metadata": {
        "id": "4ngn4J7WJ9Br"
      },
      "outputs": [],
      "source": [
        "# Because each column of data represents a datapoint we will name the columns by the sequence of datapoints\n",
        "# (1,2,3...140)\n",
        "names = []\n",
        "for i in range(140):\n",
        "    names.append(i)\n",
        "# The last column will be the target or dependent variable\n",
        "names.append(\"Target\")"
      ]
    },
    {
      "cell_type": "markdown",
      "metadata": {
        "id": "BbrLzn0GNu9C"
      },
      "source": [
        "Read in the data from http://storage.googleapis.com/download.tensorflow.org/data/ecg.csv and set the column names from the list created in the box above"
      ]
    },
    {
      "cell_type": "code",
      "execution_count": 3,
      "metadata": {
        "id": "69e7I9U4J-eI"
      },
      "outputs": [],
      "source": [
        "df = pd.read_csv(\n",
        "    \"http://storage.googleapis.com/download.tensorflow.org/data/ecg.csv\", header=None\n",
        ")\n",
        "\n",
        "df.columns = names"
      ]
    },
    {
      "cell_type": "code",
      "execution_count": 4,
      "metadata": {
        "colab": {
          "base_uri": "https://localhost:8080/"
        },
        "id": "Hg0SoQQhJ_mF",
        "outputId": "e01bdf15-b60e-4489-c7c6-e5f5ae60da81"
      },
      "outputs": [
        {
          "output_type": "execute_result",
          "data": {
            "text/plain": [
              "(4998, 141)"
            ]
          },
          "metadata": {},
          "execution_count": 4
        }
      ],
      "source": [
        "df.shape"
      ]
    },
    {
      "cell_type": "code",
      "execution_count": 5,
      "metadata": {
        "colab": {
          "base_uri": "https://localhost:8080/",
          "height": 236
        },
        "id": "g7blr1l5KCM2",
        "outputId": "4ce3e940-837a-4b13-9064-983633ecd122"
      },
      "outputs": [
        {
          "output_type": "execute_result",
          "data": {
            "text/plain": [
              "          0         1         2         3         4         5         6  \\\n",
              "0 -0.112522 -2.827204 -3.773897 -4.349751 -4.376041 -3.474986 -2.181408   \n",
              "1 -1.100878 -3.996840 -4.285843 -4.506579 -4.022377 -3.234368 -1.566126   \n",
              "2 -0.567088 -2.593450 -3.874230 -4.584095 -4.187449 -3.151462 -1.742940   \n",
              "3  0.490473 -1.914407 -3.616364 -4.318823 -4.268016 -3.881110 -2.993280   \n",
              "4  0.800232 -0.874252 -2.384761 -3.973292 -4.338224 -3.802422 -2.534510   \n",
              "\n",
              "          7         8         9  ...       131       132       133       134  \\\n",
              "0 -1.818286 -1.250522 -0.477492  ...  0.792168  0.933541  0.796958  0.578621   \n",
              "1 -0.992258 -0.754680  0.042321  ...  0.538356  0.656881  0.787490  0.724046   \n",
              "2 -1.490659 -1.183580 -0.394229  ...  0.886073  0.531452  0.311377 -0.021919   \n",
              "3 -1.671131 -1.333884 -0.965629  ...  0.350816  0.499111  0.600345  0.842069   \n",
              "4 -1.783423 -1.594450 -0.753199  ...  1.148884  0.958434  1.059025  1.371682   \n",
              "\n",
              "        135       136       137       138       139  Target  \n",
              "0  0.257740  0.228077  0.123431  0.925286  0.193137     1.0  \n",
              "1  0.555784  0.476333  0.773820  1.119621 -1.436250     1.0  \n",
              "2 -0.713683 -0.532197  0.321097  0.904227 -0.421797     1.0  \n",
              "3  0.952074  0.990133  1.086798  1.403011 -0.383564     1.0  \n",
              "4  1.277392  0.960304  0.971020  1.614392  1.421456     1.0  \n",
              "\n",
              "[5 rows x 141 columns]"
            ],
            "text/html": [
              "\n",
              "  <div id=\"df-8ec55987-25c9-4543-951b-a60bfcb21100\" class=\"colab-df-container\">\n",
              "    <div>\n",
              "<style scoped>\n",
              "    .dataframe tbody tr th:only-of-type {\n",
              "        vertical-align: middle;\n",
              "    }\n",
              "\n",
              "    .dataframe tbody tr th {\n",
              "        vertical-align: top;\n",
              "    }\n",
              "\n",
              "    .dataframe thead th {\n",
              "        text-align: right;\n",
              "    }\n",
              "</style>\n",
              "<table border=\"1\" class=\"dataframe\">\n",
              "  <thead>\n",
              "    <tr style=\"text-align: right;\">\n",
              "      <th></th>\n",
              "      <th>0</th>\n",
              "      <th>1</th>\n",
              "      <th>2</th>\n",
              "      <th>3</th>\n",
              "      <th>4</th>\n",
              "      <th>5</th>\n",
              "      <th>6</th>\n",
              "      <th>7</th>\n",
              "      <th>8</th>\n",
              "      <th>9</th>\n",
              "      <th>...</th>\n",
              "      <th>131</th>\n",
              "      <th>132</th>\n",
              "      <th>133</th>\n",
              "      <th>134</th>\n",
              "      <th>135</th>\n",
              "      <th>136</th>\n",
              "      <th>137</th>\n",
              "      <th>138</th>\n",
              "      <th>139</th>\n",
              "      <th>Target</th>\n",
              "    </tr>\n",
              "  </thead>\n",
              "  <tbody>\n",
              "    <tr>\n",
              "      <th>0</th>\n",
              "      <td>-0.112522</td>\n",
              "      <td>-2.827204</td>\n",
              "      <td>-3.773897</td>\n",
              "      <td>-4.349751</td>\n",
              "      <td>-4.376041</td>\n",
              "      <td>-3.474986</td>\n",
              "      <td>-2.181408</td>\n",
              "      <td>-1.818286</td>\n",
              "      <td>-1.250522</td>\n",
              "      <td>-0.477492</td>\n",
              "      <td>...</td>\n",
              "      <td>0.792168</td>\n",
              "      <td>0.933541</td>\n",
              "      <td>0.796958</td>\n",
              "      <td>0.578621</td>\n",
              "      <td>0.257740</td>\n",
              "      <td>0.228077</td>\n",
              "      <td>0.123431</td>\n",
              "      <td>0.925286</td>\n",
              "      <td>0.193137</td>\n",
              "      <td>1.0</td>\n",
              "    </tr>\n",
              "    <tr>\n",
              "      <th>1</th>\n",
              "      <td>-1.100878</td>\n",
              "      <td>-3.996840</td>\n",
              "      <td>-4.285843</td>\n",
              "      <td>-4.506579</td>\n",
              "      <td>-4.022377</td>\n",
              "      <td>-3.234368</td>\n",
              "      <td>-1.566126</td>\n",
              "      <td>-0.992258</td>\n",
              "      <td>-0.754680</td>\n",
              "      <td>0.042321</td>\n",
              "      <td>...</td>\n",
              "      <td>0.538356</td>\n",
              "      <td>0.656881</td>\n",
              "      <td>0.787490</td>\n",
              "      <td>0.724046</td>\n",
              "      <td>0.555784</td>\n",
              "      <td>0.476333</td>\n",
              "      <td>0.773820</td>\n",
              "      <td>1.119621</td>\n",
              "      <td>-1.436250</td>\n",
              "      <td>1.0</td>\n",
              "    </tr>\n",
              "    <tr>\n",
              "      <th>2</th>\n",
              "      <td>-0.567088</td>\n",
              "      <td>-2.593450</td>\n",
              "      <td>-3.874230</td>\n",
              "      <td>-4.584095</td>\n",
              "      <td>-4.187449</td>\n",
              "      <td>-3.151462</td>\n",
              "      <td>-1.742940</td>\n",
              "      <td>-1.490659</td>\n",
              "      <td>-1.183580</td>\n",
              "      <td>-0.394229</td>\n",
              "      <td>...</td>\n",
              "      <td>0.886073</td>\n",
              "      <td>0.531452</td>\n",
              "      <td>0.311377</td>\n",
              "      <td>-0.021919</td>\n",
              "      <td>-0.713683</td>\n",
              "      <td>-0.532197</td>\n",
              "      <td>0.321097</td>\n",
              "      <td>0.904227</td>\n",
              "      <td>-0.421797</td>\n",
              "      <td>1.0</td>\n",
              "    </tr>\n",
              "    <tr>\n",
              "      <th>3</th>\n",
              "      <td>0.490473</td>\n",
              "      <td>-1.914407</td>\n",
              "      <td>-3.616364</td>\n",
              "      <td>-4.318823</td>\n",
              "      <td>-4.268016</td>\n",
              "      <td>-3.881110</td>\n",
              "      <td>-2.993280</td>\n",
              "      <td>-1.671131</td>\n",
              "      <td>-1.333884</td>\n",
              "      <td>-0.965629</td>\n",
              "      <td>...</td>\n",
              "      <td>0.350816</td>\n",
              "      <td>0.499111</td>\n",
              "      <td>0.600345</td>\n",
              "      <td>0.842069</td>\n",
              "      <td>0.952074</td>\n",
              "      <td>0.990133</td>\n",
              "      <td>1.086798</td>\n",
              "      <td>1.403011</td>\n",
              "      <td>-0.383564</td>\n",
              "      <td>1.0</td>\n",
              "    </tr>\n",
              "    <tr>\n",
              "      <th>4</th>\n",
              "      <td>0.800232</td>\n",
              "      <td>-0.874252</td>\n",
              "      <td>-2.384761</td>\n",
              "      <td>-3.973292</td>\n",
              "      <td>-4.338224</td>\n",
              "      <td>-3.802422</td>\n",
              "      <td>-2.534510</td>\n",
              "      <td>-1.783423</td>\n",
              "      <td>-1.594450</td>\n",
              "      <td>-0.753199</td>\n",
              "      <td>...</td>\n",
              "      <td>1.148884</td>\n",
              "      <td>0.958434</td>\n",
              "      <td>1.059025</td>\n",
              "      <td>1.371682</td>\n",
              "      <td>1.277392</td>\n",
              "      <td>0.960304</td>\n",
              "      <td>0.971020</td>\n",
              "      <td>1.614392</td>\n",
              "      <td>1.421456</td>\n",
              "      <td>1.0</td>\n",
              "    </tr>\n",
              "  </tbody>\n",
              "</table>\n",
              "<p>5 rows × 141 columns</p>\n",
              "</div>\n",
              "    <div class=\"colab-df-buttons\">\n",
              "\n",
              "  <div class=\"colab-df-container\">\n",
              "    <button class=\"colab-df-convert\" onclick=\"convertToInteractive('df-8ec55987-25c9-4543-951b-a60bfcb21100')\"\n",
              "            title=\"Convert this dataframe to an interactive table.\"\n",
              "            style=\"display:none;\">\n",
              "\n",
              "  <svg xmlns=\"http://www.w3.org/2000/svg\" height=\"24px\" viewBox=\"0 -960 960 960\">\n",
              "    <path d=\"M120-120v-720h720v720H120Zm60-500h600v-160H180v160Zm220 220h160v-160H400v160Zm0 220h160v-160H400v160ZM180-400h160v-160H180v160Zm440 0h160v-160H620v160ZM180-180h160v-160H180v160Zm440 0h160v-160H620v160Z\"/>\n",
              "  </svg>\n",
              "    </button>\n",
              "\n",
              "  <style>\n",
              "    .colab-df-container {\n",
              "      display:flex;\n",
              "      gap: 12px;\n",
              "    }\n",
              "\n",
              "    .colab-df-convert {\n",
              "      background-color: #E8F0FE;\n",
              "      border: none;\n",
              "      border-radius: 50%;\n",
              "      cursor: pointer;\n",
              "      display: none;\n",
              "      fill: #1967D2;\n",
              "      height: 32px;\n",
              "      padding: 0 0 0 0;\n",
              "      width: 32px;\n",
              "    }\n",
              "\n",
              "    .colab-df-convert:hover {\n",
              "      background-color: #E2EBFA;\n",
              "      box-shadow: 0px 1px 2px rgba(60, 64, 67, 0.3), 0px 1px 3px 1px rgba(60, 64, 67, 0.15);\n",
              "      fill: #174EA6;\n",
              "    }\n",
              "\n",
              "    .colab-df-buttons div {\n",
              "      margin-bottom: 4px;\n",
              "    }\n",
              "\n",
              "    [theme=dark] .colab-df-convert {\n",
              "      background-color: #3B4455;\n",
              "      fill: #D2E3FC;\n",
              "    }\n",
              "\n",
              "    [theme=dark] .colab-df-convert:hover {\n",
              "      background-color: #434B5C;\n",
              "      box-shadow: 0px 1px 3px 1px rgba(0, 0, 0, 0.15);\n",
              "      filter: drop-shadow(0px 1px 2px rgba(0, 0, 0, 0.3));\n",
              "      fill: #FFFFFF;\n",
              "    }\n",
              "  </style>\n",
              "\n",
              "    <script>\n",
              "      const buttonEl =\n",
              "        document.querySelector('#df-8ec55987-25c9-4543-951b-a60bfcb21100 button.colab-df-convert');\n",
              "      buttonEl.style.display =\n",
              "        google.colab.kernel.accessAllowed ? 'block' : 'none';\n",
              "\n",
              "      async function convertToInteractive(key) {\n",
              "        const element = document.querySelector('#df-8ec55987-25c9-4543-951b-a60bfcb21100');\n",
              "        const dataTable =\n",
              "          await google.colab.kernel.invokeFunction('convertToInteractive',\n",
              "                                                    [key], {});\n",
              "        if (!dataTable) return;\n",
              "\n",
              "        const docLinkHtml = 'Like what you see? Visit the ' +\n",
              "          '<a target=\"_blank\" href=https://colab.research.google.com/notebooks/data_table.ipynb>data table notebook</a>'\n",
              "          + ' to learn more about interactive tables.';\n",
              "        element.innerHTML = '';\n",
              "        dataTable['output_type'] = 'display_data';\n",
              "        await google.colab.output.renderOutput(dataTable, element);\n",
              "        const docLink = document.createElement('div');\n",
              "        docLink.innerHTML = docLinkHtml;\n",
              "        element.appendChild(docLink);\n",
              "      }\n",
              "    </script>\n",
              "  </div>\n",
              "\n",
              "\n",
              "    <div id=\"df-8c524e99-5188-46d5-8d01-f28342d8e4d3\">\n",
              "      <button class=\"colab-df-quickchart\" onclick=\"quickchart('df-8c524e99-5188-46d5-8d01-f28342d8e4d3')\"\n",
              "                title=\"Suggest charts\"\n",
              "                style=\"display:none;\">\n",
              "\n",
              "<svg xmlns=\"http://www.w3.org/2000/svg\" height=\"24px\"viewBox=\"0 0 24 24\"\n",
              "     width=\"24px\">\n",
              "    <g>\n",
              "        <path d=\"M19 3H5c-1.1 0-2 .9-2 2v14c0 1.1.9 2 2 2h14c1.1 0 2-.9 2-2V5c0-1.1-.9-2-2-2zM9 17H7v-7h2v7zm4 0h-2V7h2v10zm4 0h-2v-4h2v4z\"/>\n",
              "    </g>\n",
              "</svg>\n",
              "      </button>\n",
              "\n",
              "<style>\n",
              "  .colab-df-quickchart {\n",
              "      --bg-color: #E8F0FE;\n",
              "      --fill-color: #1967D2;\n",
              "      --hover-bg-color: #E2EBFA;\n",
              "      --hover-fill-color: #174EA6;\n",
              "      --disabled-fill-color: #AAA;\n",
              "      --disabled-bg-color: #DDD;\n",
              "  }\n",
              "\n",
              "  [theme=dark] .colab-df-quickchart {\n",
              "      --bg-color: #3B4455;\n",
              "      --fill-color: #D2E3FC;\n",
              "      --hover-bg-color: #434B5C;\n",
              "      --hover-fill-color: #FFFFFF;\n",
              "      --disabled-bg-color: #3B4455;\n",
              "      --disabled-fill-color: #666;\n",
              "  }\n",
              "\n",
              "  .colab-df-quickchart {\n",
              "    background-color: var(--bg-color);\n",
              "    border: none;\n",
              "    border-radius: 50%;\n",
              "    cursor: pointer;\n",
              "    display: none;\n",
              "    fill: var(--fill-color);\n",
              "    height: 32px;\n",
              "    padding: 0;\n",
              "    width: 32px;\n",
              "  }\n",
              "\n",
              "  .colab-df-quickchart:hover {\n",
              "    background-color: var(--hover-bg-color);\n",
              "    box-shadow: 0 1px 2px rgba(60, 64, 67, 0.3), 0 1px 3px 1px rgba(60, 64, 67, 0.15);\n",
              "    fill: var(--button-hover-fill-color);\n",
              "  }\n",
              "\n",
              "  .colab-df-quickchart-complete:disabled,\n",
              "  .colab-df-quickchart-complete:disabled:hover {\n",
              "    background-color: var(--disabled-bg-color);\n",
              "    fill: var(--disabled-fill-color);\n",
              "    box-shadow: none;\n",
              "  }\n",
              "\n",
              "  .colab-df-spinner {\n",
              "    border: 2px solid var(--fill-color);\n",
              "    border-color: transparent;\n",
              "    border-bottom-color: var(--fill-color);\n",
              "    animation:\n",
              "      spin 1s steps(1) infinite;\n",
              "  }\n",
              "\n",
              "  @keyframes spin {\n",
              "    0% {\n",
              "      border-color: transparent;\n",
              "      border-bottom-color: var(--fill-color);\n",
              "      border-left-color: var(--fill-color);\n",
              "    }\n",
              "    20% {\n",
              "      border-color: transparent;\n",
              "      border-left-color: var(--fill-color);\n",
              "      border-top-color: var(--fill-color);\n",
              "    }\n",
              "    30% {\n",
              "      border-color: transparent;\n",
              "      border-left-color: var(--fill-color);\n",
              "      border-top-color: var(--fill-color);\n",
              "      border-right-color: var(--fill-color);\n",
              "    }\n",
              "    40% {\n",
              "      border-color: transparent;\n",
              "      border-right-color: var(--fill-color);\n",
              "      border-top-color: var(--fill-color);\n",
              "    }\n",
              "    60% {\n",
              "      border-color: transparent;\n",
              "      border-right-color: var(--fill-color);\n",
              "    }\n",
              "    80% {\n",
              "      border-color: transparent;\n",
              "      border-right-color: var(--fill-color);\n",
              "      border-bottom-color: var(--fill-color);\n",
              "    }\n",
              "    90% {\n",
              "      border-color: transparent;\n",
              "      border-bottom-color: var(--fill-color);\n",
              "    }\n",
              "  }\n",
              "</style>\n",
              "\n",
              "      <script>\n",
              "        async function quickchart(key) {\n",
              "          const quickchartButtonEl =\n",
              "            document.querySelector('#' + key + ' button');\n",
              "          quickchartButtonEl.disabled = true;  // To prevent multiple clicks.\n",
              "          quickchartButtonEl.classList.add('colab-df-spinner');\n",
              "          try {\n",
              "            const charts = await google.colab.kernel.invokeFunction(\n",
              "                'suggestCharts', [key], {});\n",
              "          } catch (error) {\n",
              "            console.error('Error during call to suggestCharts:', error);\n",
              "          }\n",
              "          quickchartButtonEl.classList.remove('colab-df-spinner');\n",
              "          quickchartButtonEl.classList.add('colab-df-quickchart-complete');\n",
              "        }\n",
              "        (() => {\n",
              "          let quickchartButtonEl =\n",
              "            document.querySelector('#df-8c524e99-5188-46d5-8d01-f28342d8e4d3 button');\n",
              "          quickchartButtonEl.style.display =\n",
              "            google.colab.kernel.accessAllowed ? 'block' : 'none';\n",
              "        })();\n",
              "      </script>\n",
              "    </div>\n",
              "\n",
              "    </div>\n",
              "  </div>\n"
            ],
            "application/vnd.google.colaboratory.intrinsic+json": {
              "type": "dataframe",
              "variable_name": "df"
            }
          },
          "metadata": {},
          "execution_count": 5
        }
      ],
      "source": [
        "df.head()"
      ]
    },
    {
      "cell_type": "markdown",
      "metadata": {
        "id": "OOvYP5QEN2hJ"
      },
      "source": [
        "## Preprocessing\n",
        "\n",
        "This dataset only has numeric variables. For consistency sake, we will assign the column names to variable numerics.\n"
      ]
    },
    {
      "cell_type": "code",
      "execution_count": 6,
      "metadata": {
        "id": "3LRCqYc3KD85"
      },
      "outputs": [],
      "source": [
        "numerics = names\n",
        "\n",
        "# Remove the dependent variable\n",
        "numerics.remove(\"Target\")"
      ]
    },
    {
      "cell_type": "code",
      "execution_count": 7,
      "metadata": {
        "colab": {
          "base_uri": "https://localhost:8080/"
        },
        "id": "59OT36o0KF9E",
        "outputId": "56fb06d5-bea3-492b-88fa-012c5d4dab84"
      },
      "outputs": [
        {
          "output_type": "stream",
          "name": "stdout",
          "text": [
            "Target\n",
            "1.0    0.584034\n",
            "0.0    0.415966\n",
            "Name: proportion, dtype: float64\n"
          ]
        }
      ],
      "source": [
        "# Set the output to \"target_metrics\"\n",
        "target_metrics = df.Target.value_counts(normalize=True)\n",
        "print(target_metrics)"
      ]
    },
    {
      "cell_type": "markdown",
      "metadata": {
        "id": "daMUPoXGN4mA"
      },
      "source": [
        "Extract the dependent variable"
      ]
    },
    {
      "cell_type": "code",
      "execution_count": 8,
      "metadata": {
        "id": "IF_RSWlhKHWB"
      },
      "outputs": [],
      "source": [
        "# set the dependent variables to 'y'\n",
        "y = df.pop(\"Target\")"
      ]
    },
    {
      "cell_type": "markdown",
      "metadata": {
        "id": "WtSM3jC9N6x-"
      },
      "source": [
        "\n",
        "Before we normalize the numerics, let's split the data into an 80% training set and 20% test set (*why should we split **before** normalization?*)."
      ]
    },
    {
      "cell_type": "code",
      "execution_count": 9,
      "metadata": {
        "id": "bQ98B7TYLJXz"
      },
      "outputs": [],
      "source": [
        "from sklearn.model_selection import train_test_split"
      ]
    },
    {
      "cell_type": "code",
      "execution_count": 10,
      "metadata": {
        "id": "rvnzP1g4MyaK"
      },
      "outputs": [],
      "source": [
        "# split into train and test sets with the following naming conventions:\n",
        "# X_train, X_test, y_train and y_test\n",
        "X_train, X_test, y_train, y_test = train_test_split(df, y, test_size=0.2, stratify=y)"
      ]
    },
    {
      "cell_type": "markdown",
      "metadata": {
        "id": "gVzpUbd8N91U"
      },
      "source": [
        "OK, let's calculate the mean and standard deviation of every numeric variable in the training set."
      ]
    },
    {
      "cell_type": "code",
      "execution_count": 11,
      "metadata": {
        "colab": {
          "base_uri": "https://localhost:8080/"
        },
        "id": "LVC_38G3Mzb7",
        "outputId": "6cddb9af-622a-4d1a-c955-d980691d5c47"
      },
      "outputs": [
        {
          "output_type": "stream",
          "name": "stdout",
          "text": [
            "0     -0.261910\n",
            "1     -1.649880\n",
            "2     -2.495738\n",
            "3     -3.123526\n",
            "4     -3.170804\n",
            "         ...   \n",
            "135   -0.779775\n",
            "136   -0.842486\n",
            "137   -0.640901\n",
            "138   -0.484135\n",
            "139   -0.704742\n",
            "Length: 140, dtype: float64\n"
          ]
        }
      ],
      "source": [
        "# Assign the means to \"means\" and standard deviation to \"sd\"\n",
        "means = X_train[numerics].mean()\n",
        "sd = X_train[numerics].std()\n",
        "print(means)"
      ]
    },
    {
      "cell_type": "markdown",
      "metadata": {
        "id": "StF7K6INOB5N"
      },
      "source": [
        "Let's normalize the train and test dataframes with these means and standard deviations."
      ]
    },
    {
      "cell_type": "code",
      "execution_count": 12,
      "metadata": {
        "id": "xiIH6RKKM0s5"
      },
      "outputs": [],
      "source": [
        "# Normalize X_train\n",
        "X_train[numerics] = (X_train[numerics] - means) / sd"
      ]
    },
    {
      "cell_type": "code",
      "execution_count": 13,
      "metadata": {
        "id": "mjeGnoNPM1p1"
      },
      "outputs": [],
      "source": [
        "# Normalize X_test\n",
        "X_test[numerics] = (X_test[numerics] - means) / sd"
      ]
    },
    {
      "cell_type": "code",
      "execution_count": 14,
      "metadata": {
        "colab": {
          "base_uri": "https://localhost:8080/",
          "height": 236
        },
        "id": "zgZrGpNHM3ld",
        "outputId": "13f265a4-b970-49da-f16c-295dfac1e44d"
      },
      "outputs": [
        {
          "output_type": "execute_result",
          "data": {
            "text/plain": [
              "           0         1         2         3         4         5         6    \\\n",
              "4321  0.942906  0.918411  0.756059  0.549809  0.279007 -0.000239 -0.318129   \n",
              "1589 -0.676037 -0.803506 -1.016787 -1.077450 -0.916263 -0.351198  0.628702   \n",
              "4109  1.272265  0.974431  0.564563  0.484635  0.155354 -0.257428 -0.765206   \n",
              "1018  1.039653  0.543801 -0.172987 -0.433091 -1.105617 -1.650335 -1.218847   \n",
              "3552  0.888205  1.145303  1.259494  1.365041  1.064103  0.257039 -0.683586   \n",
              "\n",
              "           7         8         9    ...       130       131       132  \\\n",
              "4321 -0.297419  0.114735  0.023530  ... -0.844024 -1.079494 -1.169549   \n",
              "1589  0.524610  0.673169  1.089889  ...  0.858042  0.814006  0.978348   \n",
              "4109 -0.598672  0.175432 -0.133798  ...  0.182676  0.012165 -0.367248   \n",
              "1018 -0.441137 -0.787254 -0.423532  ... -0.347807  0.082412  0.571933   \n",
              "3552 -1.330719 -1.119904 -0.882630  ... -0.741992 -1.023779 -1.223630   \n",
              "\n",
              "           133       134       135       136       137       138       139  \n",
              "4321 -1.291348 -1.581476 -1.596743 -1.503656 -1.144827 -0.926862 -0.418502  \n",
              "1589  0.878989  0.727128  0.663161  0.757176  0.790068  0.355183 -0.646023  \n",
              "4109 -0.649725 -0.888969 -1.240149 -1.619437 -1.854891 -1.307798 -0.740308  \n",
              "1018  0.705932  0.906023  1.013345  0.982132  0.775867  0.316683  0.817843  \n",
              "3552 -1.312176 -1.534803 -1.621368 -1.564656 -1.259108 -0.915075 -0.044013  \n",
              "\n",
              "[5 rows x 140 columns]"
            ],
            "text/html": [
              "\n",
              "  <div id=\"df-a6ff4933-40d9-4ca1-8555-287295e078b3\" class=\"colab-df-container\">\n",
              "    <div>\n",
              "<style scoped>\n",
              "    .dataframe tbody tr th:only-of-type {\n",
              "        vertical-align: middle;\n",
              "    }\n",
              "\n",
              "    .dataframe tbody tr th {\n",
              "        vertical-align: top;\n",
              "    }\n",
              "\n",
              "    .dataframe thead th {\n",
              "        text-align: right;\n",
              "    }\n",
              "</style>\n",
              "<table border=\"1\" class=\"dataframe\">\n",
              "  <thead>\n",
              "    <tr style=\"text-align: right;\">\n",
              "      <th></th>\n",
              "      <th>0</th>\n",
              "      <th>1</th>\n",
              "      <th>2</th>\n",
              "      <th>3</th>\n",
              "      <th>4</th>\n",
              "      <th>5</th>\n",
              "      <th>6</th>\n",
              "      <th>7</th>\n",
              "      <th>8</th>\n",
              "      <th>9</th>\n",
              "      <th>...</th>\n",
              "      <th>130</th>\n",
              "      <th>131</th>\n",
              "      <th>132</th>\n",
              "      <th>133</th>\n",
              "      <th>134</th>\n",
              "      <th>135</th>\n",
              "      <th>136</th>\n",
              "      <th>137</th>\n",
              "      <th>138</th>\n",
              "      <th>139</th>\n",
              "    </tr>\n",
              "  </thead>\n",
              "  <tbody>\n",
              "    <tr>\n",
              "      <th>4321</th>\n",
              "      <td>0.942906</td>\n",
              "      <td>0.918411</td>\n",
              "      <td>0.756059</td>\n",
              "      <td>0.549809</td>\n",
              "      <td>0.279007</td>\n",
              "      <td>-0.000239</td>\n",
              "      <td>-0.318129</td>\n",
              "      <td>-0.297419</td>\n",
              "      <td>0.114735</td>\n",
              "      <td>0.023530</td>\n",
              "      <td>...</td>\n",
              "      <td>-0.844024</td>\n",
              "      <td>-1.079494</td>\n",
              "      <td>-1.169549</td>\n",
              "      <td>-1.291348</td>\n",
              "      <td>-1.581476</td>\n",
              "      <td>-1.596743</td>\n",
              "      <td>-1.503656</td>\n",
              "      <td>-1.144827</td>\n",
              "      <td>-0.926862</td>\n",
              "      <td>-0.418502</td>\n",
              "    </tr>\n",
              "    <tr>\n",
              "      <th>1589</th>\n",
              "      <td>-0.676037</td>\n",
              "      <td>-0.803506</td>\n",
              "      <td>-1.016787</td>\n",
              "      <td>-1.077450</td>\n",
              "      <td>-0.916263</td>\n",
              "      <td>-0.351198</td>\n",
              "      <td>0.628702</td>\n",
              "      <td>0.524610</td>\n",
              "      <td>0.673169</td>\n",
              "      <td>1.089889</td>\n",
              "      <td>...</td>\n",
              "      <td>0.858042</td>\n",
              "      <td>0.814006</td>\n",
              "      <td>0.978348</td>\n",
              "      <td>0.878989</td>\n",
              "      <td>0.727128</td>\n",
              "      <td>0.663161</td>\n",
              "      <td>0.757176</td>\n",
              "      <td>0.790068</td>\n",
              "      <td>0.355183</td>\n",
              "      <td>-0.646023</td>\n",
              "    </tr>\n",
              "    <tr>\n",
              "      <th>4109</th>\n",
              "      <td>1.272265</td>\n",
              "      <td>0.974431</td>\n",
              "      <td>0.564563</td>\n",
              "      <td>0.484635</td>\n",
              "      <td>0.155354</td>\n",
              "      <td>-0.257428</td>\n",
              "      <td>-0.765206</td>\n",
              "      <td>-0.598672</td>\n",
              "      <td>0.175432</td>\n",
              "      <td>-0.133798</td>\n",
              "      <td>...</td>\n",
              "      <td>0.182676</td>\n",
              "      <td>0.012165</td>\n",
              "      <td>-0.367248</td>\n",
              "      <td>-0.649725</td>\n",
              "      <td>-0.888969</td>\n",
              "      <td>-1.240149</td>\n",
              "      <td>-1.619437</td>\n",
              "      <td>-1.854891</td>\n",
              "      <td>-1.307798</td>\n",
              "      <td>-0.740308</td>\n",
              "    </tr>\n",
              "    <tr>\n",
              "      <th>1018</th>\n",
              "      <td>1.039653</td>\n",
              "      <td>0.543801</td>\n",
              "      <td>-0.172987</td>\n",
              "      <td>-0.433091</td>\n",
              "      <td>-1.105617</td>\n",
              "      <td>-1.650335</td>\n",
              "      <td>-1.218847</td>\n",
              "      <td>-0.441137</td>\n",
              "      <td>-0.787254</td>\n",
              "      <td>-0.423532</td>\n",
              "      <td>...</td>\n",
              "      <td>-0.347807</td>\n",
              "      <td>0.082412</td>\n",
              "      <td>0.571933</td>\n",
              "      <td>0.705932</td>\n",
              "      <td>0.906023</td>\n",
              "      <td>1.013345</td>\n",
              "      <td>0.982132</td>\n",
              "      <td>0.775867</td>\n",
              "      <td>0.316683</td>\n",
              "      <td>0.817843</td>\n",
              "    </tr>\n",
              "    <tr>\n",
              "      <th>3552</th>\n",
              "      <td>0.888205</td>\n",
              "      <td>1.145303</td>\n",
              "      <td>1.259494</td>\n",
              "      <td>1.365041</td>\n",
              "      <td>1.064103</td>\n",
              "      <td>0.257039</td>\n",
              "      <td>-0.683586</td>\n",
              "      <td>-1.330719</td>\n",
              "      <td>-1.119904</td>\n",
              "      <td>-0.882630</td>\n",
              "      <td>...</td>\n",
              "      <td>-0.741992</td>\n",
              "      <td>-1.023779</td>\n",
              "      <td>-1.223630</td>\n",
              "      <td>-1.312176</td>\n",
              "      <td>-1.534803</td>\n",
              "      <td>-1.621368</td>\n",
              "      <td>-1.564656</td>\n",
              "      <td>-1.259108</td>\n",
              "      <td>-0.915075</td>\n",
              "      <td>-0.044013</td>\n",
              "    </tr>\n",
              "  </tbody>\n",
              "</table>\n",
              "<p>5 rows × 140 columns</p>\n",
              "</div>\n",
              "    <div class=\"colab-df-buttons\">\n",
              "\n",
              "  <div class=\"colab-df-container\">\n",
              "    <button class=\"colab-df-convert\" onclick=\"convertToInteractive('df-a6ff4933-40d9-4ca1-8555-287295e078b3')\"\n",
              "            title=\"Convert this dataframe to an interactive table.\"\n",
              "            style=\"display:none;\">\n",
              "\n",
              "  <svg xmlns=\"http://www.w3.org/2000/svg\" height=\"24px\" viewBox=\"0 -960 960 960\">\n",
              "    <path d=\"M120-120v-720h720v720H120Zm60-500h600v-160H180v160Zm220 220h160v-160H400v160Zm0 220h160v-160H400v160ZM180-400h160v-160H180v160Zm440 0h160v-160H620v160ZM180-180h160v-160H180v160Zm440 0h160v-160H620v160Z\"/>\n",
              "  </svg>\n",
              "    </button>\n",
              "\n",
              "  <style>\n",
              "    .colab-df-container {\n",
              "      display:flex;\n",
              "      gap: 12px;\n",
              "    }\n",
              "\n",
              "    .colab-df-convert {\n",
              "      background-color: #E8F0FE;\n",
              "      border: none;\n",
              "      border-radius: 50%;\n",
              "      cursor: pointer;\n",
              "      display: none;\n",
              "      fill: #1967D2;\n",
              "      height: 32px;\n",
              "      padding: 0 0 0 0;\n",
              "      width: 32px;\n",
              "    }\n",
              "\n",
              "    .colab-df-convert:hover {\n",
              "      background-color: #E2EBFA;\n",
              "      box-shadow: 0px 1px 2px rgba(60, 64, 67, 0.3), 0px 1px 3px 1px rgba(60, 64, 67, 0.15);\n",
              "      fill: #174EA6;\n",
              "    }\n",
              "\n",
              "    .colab-df-buttons div {\n",
              "      margin-bottom: 4px;\n",
              "    }\n",
              "\n",
              "    [theme=dark] .colab-df-convert {\n",
              "      background-color: #3B4455;\n",
              "      fill: #D2E3FC;\n",
              "    }\n",
              "\n",
              "    [theme=dark] .colab-df-convert:hover {\n",
              "      background-color: #434B5C;\n",
              "      box-shadow: 0px 1px 3px 1px rgba(0, 0, 0, 0.15);\n",
              "      filter: drop-shadow(0px 1px 2px rgba(0, 0, 0, 0.3));\n",
              "      fill: #FFFFFF;\n",
              "    }\n",
              "  </style>\n",
              "\n",
              "    <script>\n",
              "      const buttonEl =\n",
              "        document.querySelector('#df-a6ff4933-40d9-4ca1-8555-287295e078b3 button.colab-df-convert');\n",
              "      buttonEl.style.display =\n",
              "        google.colab.kernel.accessAllowed ? 'block' : 'none';\n",
              "\n",
              "      async function convertToInteractive(key) {\n",
              "        const element = document.querySelector('#df-a6ff4933-40d9-4ca1-8555-287295e078b3');\n",
              "        const dataTable =\n",
              "          await google.colab.kernel.invokeFunction('convertToInteractive',\n",
              "                                                    [key], {});\n",
              "        if (!dataTable) return;\n",
              "\n",
              "        const docLinkHtml = 'Like what you see? Visit the ' +\n",
              "          '<a target=\"_blank\" href=https://colab.research.google.com/notebooks/data_table.ipynb>data table notebook</a>'\n",
              "          + ' to learn more about interactive tables.';\n",
              "        element.innerHTML = '';\n",
              "        dataTable['output_type'] = 'display_data';\n",
              "        await google.colab.output.renderOutput(dataTable, element);\n",
              "        const docLink = document.createElement('div');\n",
              "        docLink.innerHTML = docLinkHtml;\n",
              "        element.appendChild(docLink);\n",
              "      }\n",
              "    </script>\n",
              "  </div>\n",
              "\n",
              "\n",
              "    <div id=\"df-36a21293-9a8f-4e86-a14a-a413625aba9c\">\n",
              "      <button class=\"colab-df-quickchart\" onclick=\"quickchart('df-36a21293-9a8f-4e86-a14a-a413625aba9c')\"\n",
              "                title=\"Suggest charts\"\n",
              "                style=\"display:none;\">\n",
              "\n",
              "<svg xmlns=\"http://www.w3.org/2000/svg\" height=\"24px\"viewBox=\"0 0 24 24\"\n",
              "     width=\"24px\">\n",
              "    <g>\n",
              "        <path d=\"M19 3H5c-1.1 0-2 .9-2 2v14c0 1.1.9 2 2 2h14c1.1 0 2-.9 2-2V5c0-1.1-.9-2-2-2zM9 17H7v-7h2v7zm4 0h-2V7h2v10zm4 0h-2v-4h2v4z\"/>\n",
              "    </g>\n",
              "</svg>\n",
              "      </button>\n",
              "\n",
              "<style>\n",
              "  .colab-df-quickchart {\n",
              "      --bg-color: #E8F0FE;\n",
              "      --fill-color: #1967D2;\n",
              "      --hover-bg-color: #E2EBFA;\n",
              "      --hover-fill-color: #174EA6;\n",
              "      --disabled-fill-color: #AAA;\n",
              "      --disabled-bg-color: #DDD;\n",
              "  }\n",
              "\n",
              "  [theme=dark] .colab-df-quickchart {\n",
              "      --bg-color: #3B4455;\n",
              "      --fill-color: #D2E3FC;\n",
              "      --hover-bg-color: #434B5C;\n",
              "      --hover-fill-color: #FFFFFF;\n",
              "      --disabled-bg-color: #3B4455;\n",
              "      --disabled-fill-color: #666;\n",
              "  }\n",
              "\n",
              "  .colab-df-quickchart {\n",
              "    background-color: var(--bg-color);\n",
              "    border: none;\n",
              "    border-radius: 50%;\n",
              "    cursor: pointer;\n",
              "    display: none;\n",
              "    fill: var(--fill-color);\n",
              "    height: 32px;\n",
              "    padding: 0;\n",
              "    width: 32px;\n",
              "  }\n",
              "\n",
              "  .colab-df-quickchart:hover {\n",
              "    background-color: var(--hover-bg-color);\n",
              "    box-shadow: 0 1px 2px rgba(60, 64, 67, 0.3), 0 1px 3px 1px rgba(60, 64, 67, 0.15);\n",
              "    fill: var(--button-hover-fill-color);\n",
              "  }\n",
              "\n",
              "  .colab-df-quickchart-complete:disabled,\n",
              "  .colab-df-quickchart-complete:disabled:hover {\n",
              "    background-color: var(--disabled-bg-color);\n",
              "    fill: var(--disabled-fill-color);\n",
              "    box-shadow: none;\n",
              "  }\n",
              "\n",
              "  .colab-df-spinner {\n",
              "    border: 2px solid var(--fill-color);\n",
              "    border-color: transparent;\n",
              "    border-bottom-color: var(--fill-color);\n",
              "    animation:\n",
              "      spin 1s steps(1) infinite;\n",
              "  }\n",
              "\n",
              "  @keyframes spin {\n",
              "    0% {\n",
              "      border-color: transparent;\n",
              "      border-bottom-color: var(--fill-color);\n",
              "      border-left-color: var(--fill-color);\n",
              "    }\n",
              "    20% {\n",
              "      border-color: transparent;\n",
              "      border-left-color: var(--fill-color);\n",
              "      border-top-color: var(--fill-color);\n",
              "    }\n",
              "    30% {\n",
              "      border-color: transparent;\n",
              "      border-left-color: var(--fill-color);\n",
              "      border-top-color: var(--fill-color);\n",
              "      border-right-color: var(--fill-color);\n",
              "    }\n",
              "    40% {\n",
              "      border-color: transparent;\n",
              "      border-right-color: var(--fill-color);\n",
              "      border-top-color: var(--fill-color);\n",
              "    }\n",
              "    60% {\n",
              "      border-color: transparent;\n",
              "      border-right-color: var(--fill-color);\n",
              "    }\n",
              "    80% {\n",
              "      border-color: transparent;\n",
              "      border-right-color: var(--fill-color);\n",
              "      border-bottom-color: var(--fill-color);\n",
              "    }\n",
              "    90% {\n",
              "      border-color: transparent;\n",
              "      border-bottom-color: var(--fill-color);\n",
              "    }\n",
              "  }\n",
              "</style>\n",
              "\n",
              "      <script>\n",
              "        async function quickchart(key) {\n",
              "          const quickchartButtonEl =\n",
              "            document.querySelector('#' + key + ' button');\n",
              "          quickchartButtonEl.disabled = true;  // To prevent multiple clicks.\n",
              "          quickchartButtonEl.classList.add('colab-df-spinner');\n",
              "          try {\n",
              "            const charts = await google.colab.kernel.invokeFunction(\n",
              "                'suggestCharts', [key], {});\n",
              "          } catch (error) {\n",
              "            console.error('Error during call to suggestCharts:', error);\n",
              "          }\n",
              "          quickchartButtonEl.classList.remove('colab-df-spinner');\n",
              "          quickchartButtonEl.classList.add('colab-df-quickchart-complete');\n",
              "        }\n",
              "        (() => {\n",
              "          let quickchartButtonEl =\n",
              "            document.querySelector('#df-36a21293-9a8f-4e86-a14a-a413625aba9c button');\n",
              "          quickchartButtonEl.style.display =\n",
              "            google.colab.kernel.accessAllowed ? 'block' : 'none';\n",
              "        })();\n",
              "      </script>\n",
              "    </div>\n",
              "\n",
              "    </div>\n",
              "  </div>\n"
            ],
            "application/vnd.google.colaboratory.intrinsic+json": {
              "type": "dataframe",
              "variable_name": "X_train"
            }
          },
          "metadata": {},
          "execution_count": 14
        }
      ],
      "source": [
        "X_train.head()"
      ]
    },
    {
      "cell_type": "markdown",
      "metadata": {
        "id": "hEQ1Wv_6OGA0"
      },
      "source": [
        "The easiest way to feed data to Keras/Tensorflow is as Numpy arrays so we convert our two dataframes to Numpy arrays."
      ]
    },
    {
      "cell_type": "code",
      "execution_count": 15,
      "metadata": {
        "id": "CSwABxJdM5GZ"
      },
      "outputs": [],
      "source": [
        "# Convert X_train and X_test to Numpy arrays\n",
        "X_train = X_train.to_numpy()\n",
        "X_test = X_test.to_numpy()"
      ]
    },
    {
      "cell_type": "code",
      "execution_count": 16,
      "metadata": {
        "colab": {
          "base_uri": "https://localhost:8080/"
        },
        "id": "ztIqv5SqM7Xd",
        "outputId": "eb2ab926-5c60-4da5-b010-f9bb0232c527"
      },
      "outputs": [
        {
          "output_type": "execute_result",
          "data": {
            "text/plain": [
              "((3998, 140), (3998,))"
            ]
          },
          "metadata": {},
          "execution_count": 16
        }
      ],
      "source": [
        "X_train.shape, y_train.shape"
      ]
    },
    {
      "cell_type": "code",
      "execution_count": 17,
      "metadata": {
        "colab": {
          "base_uri": "https://localhost:8080/"
        },
        "id": "PaUEkDihM8hw",
        "outputId": "b0e48544-2a44-4c49-bd8b-741bdd40a5bc"
      },
      "outputs": [
        {
          "output_type": "execute_result",
          "data": {
            "text/plain": [
              "((1000, 140), (1000,))"
            ]
          },
          "metadata": {},
          "execution_count": 17
        }
      ],
      "source": [
        "X_test.shape, y_test.shape"
      ]
    },
    {
      "cell_type": "markdown",
      "metadata": {
        "id": "qPUha4P7NBJb"
      },
      "source": [
        "## Build a model"
      ]
    },
    {
      "cell_type": "markdown",
      "metadata": {
        "id": "dD_B8dueNFt7"
      },
      "source": [
        "### Define model in Keras\n",
        "\n",
        "Creating an NN  is usually just a few lines of Keras code.\n",
        "\n",
        "* We will start with a single hidden layer.\n",
        "* Since this is a *binary classification problem*, we will use a sigmoid activation in the output layer."
      ]
    },
    {
      "cell_type": "code",
      "execution_count": 18,
      "metadata": {
        "id": "c9pzwAN6M_H1"
      },
      "outputs": [],
      "source": [
        "# get the number of columns and assign it to \"num_columns\"\n",
        "\n",
        "num_columns = X_train.shape[1]\n",
        "\n",
        "# Define the input layer. assign it to \"input\"\n",
        "input = keras.Input(shape=(num_columns,), dtype=\"float32\")\n",
        "\n",
        "# Feed the input vector to the hidden layer. Call it \"h\"\n",
        "h = keras.layers.Dense(16, activation=\"relu\", name=\"Hidden\")(input)\n",
        "\n",
        "# Feed the output of the hidden layer to the output layer. Call it \"output\"\n",
        "output = keras.layers.Dense(1, activation=\"sigmoid\", name=\"Output\")(h)\n",
        "\n",
        "# tell Keras that this (input,output) pair is your model. Call it \"model\"\n",
        "model = keras.Model(input, output)"
      ]
    },
    {
      "cell_type": "code",
      "execution_count": 19,
      "metadata": {
        "colab": {
          "base_uri": "https://localhost:8080/",
          "height": 225
        },
        "id": "3fMS6UNRNPTM",
        "outputId": "2bc7dc16-53d2-4ae3-9723-327fcc0e7341"
      },
      "outputs": [
        {
          "output_type": "display_data",
          "data": {
            "text/plain": [
              "\u001b[1mModel: \"functional\"\u001b[0m\n"
            ],
            "text/html": [
              "<pre style=\"white-space:pre;overflow-x:auto;line-height:normal;font-family:Menlo,'DejaVu Sans Mono',consolas,'Courier New',monospace\"><span style=\"font-weight: bold\">Model: \"functional\"</span>\n",
              "</pre>\n"
            ]
          },
          "metadata": {}
        },
        {
          "output_type": "display_data",
          "data": {
            "text/plain": [
              "┏━━━━━━━━━━━━━━━━━━━━━━━━━━━━━━━━━┳━━━━━━━━━━━━━━━━━━━━━━━━┳━━━━━━━━━━━━━━━┓\n",
              "┃\u001b[1m \u001b[0m\u001b[1mLayer (type)                   \u001b[0m\u001b[1m \u001b[0m┃\u001b[1m \u001b[0m\u001b[1mOutput Shape          \u001b[0m\u001b[1m \u001b[0m┃\u001b[1m \u001b[0m\u001b[1m      Param #\u001b[0m\u001b[1m \u001b[0m┃\n",
              "┡━━━━━━━━━━━━━━━━━━━━━━━━━━━━━━━━━╇━━━━━━━━━━━━━━━━━━━━━━━━╇━━━━━━━━━━━━━━━┩\n",
              "│ input_layer (\u001b[38;5;33mInputLayer\u001b[0m)        │ (\u001b[38;5;45mNone\u001b[0m, \u001b[38;5;34m140\u001b[0m)            │             \u001b[38;5;34m0\u001b[0m │\n",
              "├─────────────────────────────────┼────────────────────────┼───────────────┤\n",
              "│ Hidden (\u001b[38;5;33mDense\u001b[0m)                  │ (\u001b[38;5;45mNone\u001b[0m, \u001b[38;5;34m16\u001b[0m)             │         \u001b[38;5;34m2,256\u001b[0m │\n",
              "├─────────────────────────────────┼────────────────────────┼───────────────┤\n",
              "│ Output (\u001b[38;5;33mDense\u001b[0m)                  │ (\u001b[38;5;45mNone\u001b[0m, \u001b[38;5;34m1\u001b[0m)              │            \u001b[38;5;34m17\u001b[0m │\n",
              "└─────────────────────────────────┴────────────────────────┴───────────────┘\n"
            ],
            "text/html": [
              "<pre style=\"white-space:pre;overflow-x:auto;line-height:normal;font-family:Menlo,'DejaVu Sans Mono',consolas,'Courier New',monospace\">┏━━━━━━━━━━━━━━━━━━━━━━━━━━━━━━━━━┳━━━━━━━━━━━━━━━━━━━━━━━━┳━━━━━━━━━━━━━━━┓\n",
              "┃<span style=\"font-weight: bold\"> Layer (type)                    </span>┃<span style=\"font-weight: bold\"> Output Shape           </span>┃<span style=\"font-weight: bold\">       Param # </span>┃\n",
              "┡━━━━━━━━━━━━━━━━━━━━━━━━━━━━━━━━━╇━━━━━━━━━━━━━━━━━━━━━━━━╇━━━━━━━━━━━━━━━┩\n",
              "│ input_layer (<span style=\"color: #0087ff; text-decoration-color: #0087ff\">InputLayer</span>)        │ (<span style=\"color: #00d7ff; text-decoration-color: #00d7ff\">None</span>, <span style=\"color: #00af00; text-decoration-color: #00af00\">140</span>)            │             <span style=\"color: #00af00; text-decoration-color: #00af00\">0</span> │\n",
              "├─────────────────────────────────┼────────────────────────┼───────────────┤\n",
              "│ Hidden (<span style=\"color: #0087ff; text-decoration-color: #0087ff\">Dense</span>)                  │ (<span style=\"color: #00d7ff; text-decoration-color: #00d7ff\">None</span>, <span style=\"color: #00af00; text-decoration-color: #00af00\">16</span>)             │         <span style=\"color: #00af00; text-decoration-color: #00af00\">2,256</span> │\n",
              "├─────────────────────────────────┼────────────────────────┼───────────────┤\n",
              "│ Output (<span style=\"color: #0087ff; text-decoration-color: #0087ff\">Dense</span>)                  │ (<span style=\"color: #00d7ff; text-decoration-color: #00d7ff\">None</span>, <span style=\"color: #00af00; text-decoration-color: #00af00\">1</span>)              │            <span style=\"color: #00af00; text-decoration-color: #00af00\">17</span> │\n",
              "└─────────────────────────────────┴────────────────────────┴───────────────┘\n",
              "</pre>\n"
            ]
          },
          "metadata": {}
        },
        {
          "output_type": "display_data",
          "data": {
            "text/plain": [
              "\u001b[1m Total params: \u001b[0m\u001b[38;5;34m2,273\u001b[0m (8.88 KB)\n"
            ],
            "text/html": [
              "<pre style=\"white-space:pre;overflow-x:auto;line-height:normal;font-family:Menlo,'DejaVu Sans Mono',consolas,'Courier New',monospace\"><span style=\"font-weight: bold\"> Total params: </span><span style=\"color: #00af00; text-decoration-color: #00af00\">2,273</span> (8.88 KB)\n",
              "</pre>\n"
            ]
          },
          "metadata": {}
        },
        {
          "output_type": "display_data",
          "data": {
            "text/plain": [
              "\u001b[1m Trainable params: \u001b[0m\u001b[38;5;34m2,273\u001b[0m (8.88 KB)\n"
            ],
            "text/html": [
              "<pre style=\"white-space:pre;overflow-x:auto;line-height:normal;font-family:Menlo,'DejaVu Sans Mono',consolas,'Courier New',monospace\"><span style=\"font-weight: bold\"> Trainable params: </span><span style=\"color: #00af00; text-decoration-color: #00af00\">2,273</span> (8.88 KB)\n",
              "</pre>\n"
            ]
          },
          "metadata": {}
        },
        {
          "output_type": "display_data",
          "data": {
            "text/plain": [
              "\u001b[1m Non-trainable params: \u001b[0m\u001b[38;5;34m0\u001b[0m (0.00 B)\n"
            ],
            "text/html": [
              "<pre style=\"white-space:pre;overflow-x:auto;line-height:normal;font-family:Menlo,'DejaVu Sans Mono',consolas,'Courier New',monospace\"><span style=\"font-weight: bold\"> Non-trainable params: </span><span style=\"color: #00af00; text-decoration-color: #00af00\">0</span> (0.00 B)\n",
              "</pre>\n"
            ]
          },
          "metadata": {}
        }
      ],
      "source": [
        "model.summary()"
      ]
    },
    {
      "cell_type": "code",
      "execution_count": 20,
      "metadata": {
        "id": "Yc8O98MMNQpc",
        "outputId": "9bf75a7a-f788-41af-90e3-37820081a0b9",
        "colab": {
          "base_uri": "https://localhost:8080/",
          "height": 939
        }
      },
      "outputs": [
        {
          "output_type": "execute_result",
          "data": {
            "image/png": "[encoded data removed]",
            "text/plain": [
              "<IPython.core.display.Image object>"
            ]
          },
          "metadata": {},
          "execution_count": 20
        }
      ],
      "source": [
        "keras.utils.plot_model(model, show_shapes=True)"
      ]
    },
    {
      "cell_type": "markdown",
      "metadata": {
        "id": "qMgPc5JHNS10"
      },
      "source": [
        "### Set optimization parameters"
      ]
    },
    {
      "cell_type": "markdown",
      "metadata": {
        "id": "bp-OjU_NNUfp"
      },
      "source": [
        "Now that the model is defined, we need to tell Keras three things:\n",
        "\n",
        "*   What **loss function** to use - Since our output variable is binary, we will select the `binary_crossentropy` loss function.\n",
        "*   Which **optimizer** to use - we will use a 'flavor' of SGD called `adam` which is an excellent default choice\n",
        "*   What **metrics** you want Keras to report out - in classification problems like this one, `accuracy` is commonly used."
      ]
    },
    {
      "cell_type": "code",
      "execution_count": 21,
      "metadata": {
        "id": "9EF-hI65NUO4"
      },
      "outputs": [],
      "source": [
        "model.compile(optimizer=\"adam\", loss=\"binary_crossentropy\", metrics=[\"accuracy\"])"
      ]
    },
    {
      "cell_type": "markdown",
      "metadata": {
        "id": "vxn98eWdNXD8"
      },
      "source": [
        "## Train the model\n",
        "\n",
        "To kickoff training, we have to decide on three things:\n",
        "* The *batch size* - 32 is a good default\n",
        "* The number of *epochs* (i.e., how many passes through the training data). Start by setting this to 100, but you can experiment with different values.\n",
        "* Whether we want to use a validation set. This will be useful for overfitting detection and regularization via early stopping so we will ask Keras to automatically use 20% of the data points as a validation set"
      ]
    },
    {
      "cell_type": "code",
      "execution_count": 22,
      "metadata": {
        "id": "Z7eVZfydNZJT",
        "outputId": "0279bdc5-c51b-4952-d128-0e34da71458b",
        "colab": {
          "base_uri": "https://localhost:8080/"
        }
      },
      "outputs": [
        {
          "output_type": "stream",
          "name": "stdout",
          "text": [
            "Epoch 1/100\n",
            "100/100 - 2s - 20ms/step - accuracy: 0.9506 - loss: 0.1612 - val_accuracy: 0.9812 - val_loss: 0.0573\n",
            "Epoch 2/100\n",
            "100/100 - 0s - 3ms/step - accuracy: 0.9856 - loss: 0.0520 - val_accuracy: 0.9862 - val_loss: 0.0411\n",
            "Epoch 3/100\n",
            "100/100 - 0s - 3ms/step - accuracy: 0.9906 - loss: 0.0397 - val_accuracy: 0.9875 - val_loss: 0.0347\n",
            "Epoch 4/100\n",
            "100/100 - 0s - 3ms/step - accuracy: 0.9916 - loss: 0.0334 - val_accuracy: 0.9875 - val_loss: 0.0312\n",
            "Epoch 5/100\n",
            "100/100 - 0s - 3ms/step - accuracy: 0.9919 - loss: 0.0289 - val_accuracy: 0.9887 - val_loss: 0.0287\n",
            "Epoch 6/100\n",
            "100/100 - 0s - 3ms/step - accuracy: 0.9931 - loss: 0.0257 - val_accuracy: 0.9900 - val_loss: 0.0272\n",
            "Epoch 7/100\n",
            "100/100 - 0s - 3ms/step - accuracy: 0.9941 - loss: 0.0232 - val_accuracy: 0.9900 - val_loss: 0.0264\n",
            "Epoch 8/100\n",
            "100/100 - 0s - 3ms/step - accuracy: 0.9941 - loss: 0.0210 - val_accuracy: 0.9900 - val_loss: 0.0251\n",
            "Epoch 9/100\n",
            "100/100 - 1s - 6ms/step - accuracy: 0.9953 - loss: 0.0192 - val_accuracy: 0.9912 - val_loss: 0.0250\n",
            "Epoch 10/100\n",
            "100/100 - 0s - 3ms/step - accuracy: 0.9956 - loss: 0.0178 - val_accuracy: 0.9912 - val_loss: 0.0244\n",
            "Epoch 11/100\n",
            "100/100 - 0s - 3ms/step - accuracy: 0.9962 - loss: 0.0164 - val_accuracy: 0.9912 - val_loss: 0.0234\n",
            "Epoch 12/100\n",
            "100/100 - 0s - 3ms/step - accuracy: 0.9962 - loss: 0.0153 - val_accuracy: 0.9912 - val_loss: 0.0239\n",
            "Epoch 13/100\n",
            "100/100 - 0s - 3ms/step - accuracy: 0.9959 - loss: 0.0147 - val_accuracy: 0.9912 - val_loss: 0.0235\n",
            "Epoch 14/100\n",
            "100/100 - 0s - 3ms/step - accuracy: 0.9966 - loss: 0.0137 - val_accuracy: 0.9912 - val_loss: 0.0235\n",
            "Epoch 15/100\n",
            "100/100 - 0s - 3ms/step - accuracy: 0.9969 - loss: 0.0129 - val_accuracy: 0.9925 - val_loss: 0.0233\n",
            "Epoch 16/100\n",
            "100/100 - 0s - 3ms/step - accuracy: 0.9969 - loss: 0.0124 - val_accuracy: 0.9925 - val_loss: 0.0227\n",
            "Epoch 17/100\n",
            "100/100 - 0s - 3ms/step - accuracy: 0.9972 - loss: 0.0118 - val_accuracy: 0.9925 - val_loss: 0.0226\n",
            "Epoch 18/100\n",
            "100/100 - 1s - 6ms/step - accuracy: 0.9972 - loss: 0.0111 - val_accuracy: 0.9925 - val_loss: 0.0233\n",
            "Epoch 19/100\n",
            "100/100 - 0s - 3ms/step - accuracy: 0.9972 - loss: 0.0108 - val_accuracy: 0.9925 - val_loss: 0.0227\n",
            "Epoch 20/100\n",
            "100/100 - 0s - 3ms/step - accuracy: 0.9975 - loss: 0.0103 - val_accuracy: 0.9925 - val_loss: 0.0230\n",
            "Epoch 21/100\n",
            "100/100 - 1s - 6ms/step - accuracy: 0.9975 - loss: 0.0100 - val_accuracy: 0.9925 - val_loss: 0.0235\n",
            "Epoch 22/100\n",
            "100/100 - 0s - 3ms/step - accuracy: 0.9975 - loss: 0.0096 - val_accuracy: 0.9925 - val_loss: 0.0235\n",
            "Epoch 23/100\n",
            "100/100 - 0s - 3ms/step - accuracy: 0.9975 - loss: 0.0092 - val_accuracy: 0.9925 - val_loss: 0.0245\n",
            "Epoch 24/100\n",
            "100/100 - 0s - 3ms/step - accuracy: 0.9975 - loss: 0.0090 - val_accuracy: 0.9925 - val_loss: 0.0229\n",
            "Epoch 25/100\n",
            "100/100 - 0s - 3ms/step - accuracy: 0.9975 - loss: 0.0086 - val_accuracy: 0.9925 - val_loss: 0.0241\n",
            "Epoch 26/100\n",
            "100/100 - 0s - 3ms/step - accuracy: 0.9978 - loss: 0.0083 - val_accuracy: 0.9925 - val_loss: 0.0235\n",
            "Epoch 27/100\n",
            "100/100 - 1s - 6ms/step - accuracy: 0.9975 - loss: 0.0082 - val_accuracy: 0.9925 - val_loss: 0.0239\n",
            "Epoch 28/100\n",
            "100/100 - 0s - 3ms/step - accuracy: 0.9981 - loss: 0.0078 - val_accuracy: 0.9925 - val_loss: 0.0242\n",
            "Epoch 29/100\n",
            "100/100 - 0s - 3ms/step - accuracy: 0.9978 - loss: 0.0077 - val_accuracy: 0.9925 - val_loss: 0.0244\n",
            "Epoch 30/100\n",
            "100/100 - 0s - 5ms/step - accuracy: 0.9984 - loss: 0.0075 - val_accuracy: 0.9925 - val_loss: 0.0234\n",
            "Epoch 31/100\n",
            "100/100 - 1s - 6ms/step - accuracy: 0.9984 - loss: 0.0071 - val_accuracy: 0.9925 - val_loss: 0.0246\n",
            "Epoch 32/100\n",
            "100/100 - 1s - 6ms/step - accuracy: 0.9984 - loss: 0.0070 - val_accuracy: 0.9925 - val_loss: 0.0228\n",
            "Epoch 33/100\n",
            "100/100 - 1s - 5ms/step - accuracy: 0.9981 - loss: 0.0067 - val_accuracy: 0.9925 - val_loss: 0.0240\n",
            "Epoch 34/100\n",
            "100/100 - 1s - 5ms/step - accuracy: 0.9984 - loss: 0.0066 - val_accuracy: 0.9937 - val_loss: 0.0227\n",
            "Epoch 35/100\n",
            "100/100 - 0s - 5ms/step - accuracy: 0.9984 - loss: 0.0062 - val_accuracy: 0.9925 - val_loss: 0.0235\n",
            "Epoch 36/100\n",
            "100/100 - 0s - 4ms/step - accuracy: 0.9987 - loss: 0.0060 - val_accuracy: 0.9925 - val_loss: 0.0240\n",
            "Epoch 37/100\n",
            "100/100 - 1s - 6ms/step - accuracy: 0.9987 - loss: 0.0058 - val_accuracy: 0.9925 - val_loss: 0.0239\n",
            "Epoch 38/100\n",
            "100/100 - 0s - 3ms/step - accuracy: 0.9987 - loss: 0.0055 - val_accuracy: 0.9925 - val_loss: 0.0237\n",
            "Epoch 39/100\n",
            "100/100 - 1s - 5ms/step - accuracy: 0.9987 - loss: 0.0055 - val_accuracy: 0.9937 - val_loss: 0.0241\n",
            "Epoch 40/100\n",
            "100/100 - 0s - 4ms/step - accuracy: 0.9987 - loss: 0.0053 - val_accuracy: 0.9925 - val_loss: 0.0241\n",
            "Epoch 41/100\n",
            "100/100 - 0s - 3ms/step - accuracy: 0.9987 - loss: 0.0049 - val_accuracy: 0.9925 - val_loss: 0.0254\n",
            "Epoch 42/100\n",
            "100/100 - 0s - 3ms/step - accuracy: 0.9987 - loss: 0.0049 - val_accuracy: 0.9937 - val_loss: 0.0233\n",
            "Epoch 43/100\n",
            "100/100 - 0s - 3ms/step - accuracy: 0.9991 - loss: 0.0046 - val_accuracy: 0.9925 - val_loss: 0.0243\n",
            "Epoch 44/100\n",
            "100/100 - 0s - 3ms/step - accuracy: 0.9994 - loss: 0.0046 - val_accuracy: 0.9912 - val_loss: 0.0246\n",
            "Epoch 45/100\n",
            "100/100 - 0s - 3ms/step - accuracy: 0.9991 - loss: 0.0043 - val_accuracy: 0.9937 - val_loss: 0.0242\n",
            "Epoch 46/100\n",
            "100/100 - 1s - 6ms/step - accuracy: 0.9994 - loss: 0.0041 - val_accuracy: 0.9937 - val_loss: 0.0242\n",
            "Epoch 47/100\n",
            "100/100 - 0s - 3ms/step - accuracy: 0.9994 - loss: 0.0040 - val_accuracy: 0.9925 - val_loss: 0.0246\n",
            "Epoch 48/100\n",
            "100/100 - 0s - 3ms/step - accuracy: 0.9994 - loss: 0.0039 - val_accuracy: 0.9937 - val_loss: 0.0241\n",
            "Epoch 49/100\n",
            "100/100 - 0s - 3ms/step - accuracy: 0.9994 - loss: 0.0037 - val_accuracy: 0.9912 - val_loss: 0.0240\n",
            "Epoch 50/100\n",
            "100/100 - 0s - 3ms/step - accuracy: 0.9994 - loss: 0.0037 - val_accuracy: 0.9937 - val_loss: 0.0243\n",
            "Epoch 51/100\n",
            "100/100 - 0s - 3ms/step - accuracy: 0.9994 - loss: 0.0035 - val_accuracy: 0.9925 - val_loss: 0.0241\n",
            "Epoch 52/100\n",
            "100/100 - 0s - 3ms/step - accuracy: 0.9994 - loss: 0.0033 - val_accuracy: 0.9925 - val_loss: 0.0245\n",
            "Epoch 53/100\n",
            "100/100 - 0s - 3ms/step - accuracy: 0.9994 - loss: 0.0031 - val_accuracy: 0.9950 - val_loss: 0.0238\n",
            "Epoch 54/100\n",
            "100/100 - 0s - 3ms/step - accuracy: 0.9994 - loss: 0.0030 - val_accuracy: 0.9937 - val_loss: 0.0240\n",
            "Epoch 55/100\n",
            "100/100 - 0s - 3ms/step - accuracy: 0.9994 - loss: 0.0029 - val_accuracy: 0.9937 - val_loss: 0.0249\n",
            "Epoch 56/100\n",
            "100/100 - 0s - 3ms/step - accuracy: 0.9997 - loss: 0.0028 - val_accuracy: 0.9950 - val_loss: 0.0236\n",
            "Epoch 57/100\n",
            "100/100 - 0s - 3ms/step - accuracy: 0.9997 - loss: 0.0026 - val_accuracy: 0.9950 - val_loss: 0.0239\n",
            "Epoch 58/100\n",
            "100/100 - 0s - 3ms/step - accuracy: 0.9997 - loss: 0.0025 - val_accuracy: 0.9950 - val_loss: 0.0246\n",
            "Epoch 59/100\n",
            "100/100 - 0s - 3ms/step - accuracy: 0.9997 - loss: 0.0024 - val_accuracy: 0.9925 - val_loss: 0.0227\n",
            "Epoch 60/100\n",
            "100/100 - 0s - 3ms/step - accuracy: 0.9997 - loss: 0.0022 - val_accuracy: 0.9950 - val_loss: 0.0243\n",
            "Epoch 61/100\n",
            "100/100 - 0s - 3ms/step - accuracy: 0.9997 - loss: 0.0022 - val_accuracy: 0.9937 - val_loss: 0.0251\n",
            "Epoch 62/100\n",
            "100/100 - 0s - 4ms/step - accuracy: 0.9997 - loss: 0.0021 - val_accuracy: 0.9950 - val_loss: 0.0240\n",
            "Epoch 63/100\n",
            "100/100 - 1s - 6ms/step - accuracy: 0.9997 - loss: 0.0020 - val_accuracy: 0.9950 - val_loss: 0.0237\n",
            "Epoch 64/100\n",
            "100/100 - 1s - 6ms/step - accuracy: 0.9997 - loss: 0.0019 - val_accuracy: 0.9950 - val_loss: 0.0239\n",
            "Epoch 65/100\n",
            "100/100 - 0s - 5ms/step - accuracy: 0.9997 - loss: 0.0018 - val_accuracy: 0.9950 - val_loss: 0.0251\n",
            "Epoch 66/100\n",
            "100/100 - 0s - 4ms/step - accuracy: 0.9997 - loss: 0.0017 - val_accuracy: 0.9950 - val_loss: 0.0248\n",
            "Epoch 67/100\n",
            "100/100 - 0s - 3ms/step - accuracy: 0.9997 - loss: 0.0016 - val_accuracy: 0.9950 - val_loss: 0.0240\n",
            "Epoch 68/100\n",
            "100/100 - 0s - 3ms/step - accuracy: 0.9997 - loss: 0.0015 - val_accuracy: 0.9950 - val_loss: 0.0255\n",
            "Epoch 69/100\n",
            "100/100 - 0s - 3ms/step - accuracy: 0.9997 - loss: 0.0014 - val_accuracy: 0.9950 - val_loss: 0.0250\n",
            "Epoch 70/100\n",
            "100/100 - 0s - 3ms/step - accuracy: 0.9997 - loss: 0.0014 - val_accuracy: 0.9950 - val_loss: 0.0247\n",
            "Epoch 71/100\n",
            "100/100 - 0s - 3ms/step - accuracy: 0.9997 - loss: 0.0012 - val_accuracy: 0.9950 - val_loss: 0.0248\n",
            "Epoch 72/100\n",
            "100/100 - 0s - 3ms/step - accuracy: 0.9997 - loss: 0.0013 - val_accuracy: 0.9950 - val_loss: 0.0247\n",
            "Epoch 73/100\n",
            "100/100 - 0s - 3ms/step - accuracy: 0.9997 - loss: 0.0011 - val_accuracy: 0.9950 - val_loss: 0.0251\n",
            "Epoch 74/100\n",
            "100/100 - 0s - 3ms/step - accuracy: 0.9997 - loss: 0.0011 - val_accuracy: 0.9950 - val_loss: 0.0266\n",
            "Epoch 75/100\n",
            "100/100 - 0s - 3ms/step - accuracy: 0.9997 - loss: 0.0010 - val_accuracy: 0.9950 - val_loss: 0.0242\n",
            "Epoch 76/100\n",
            "100/100 - 0s - 3ms/step - accuracy: 0.9997 - loss: 9.5420e-04 - val_accuracy: 0.9950 - val_loss: 0.0255\n",
            "Epoch 77/100\n",
            "100/100 - 0s - 3ms/step - accuracy: 0.9997 - loss: 9.1561e-04 - val_accuracy: 0.9950 - val_loss: 0.0247\n",
            "Epoch 78/100\n",
            "100/100 - 0s - 3ms/step - accuracy: 0.9997 - loss: 8.4136e-04 - val_accuracy: 0.9950 - val_loss: 0.0259\n",
            "Epoch 79/100\n",
            "100/100 - 0s - 3ms/step - accuracy: 0.9997 - loss: 7.7600e-04 - val_accuracy: 0.9950 - val_loss: 0.0252\n",
            "Epoch 80/100\n",
            "100/100 - 0s - 3ms/step - accuracy: 0.9997 - loss: 7.6722e-04 - val_accuracy: 0.9950 - val_loss: 0.0251\n",
            "Epoch 81/100\n",
            "100/100 - 0s - 3ms/step - accuracy: 0.9997 - loss: 7.0823e-04 - val_accuracy: 0.9950 - val_loss: 0.0249\n",
            "Epoch 82/100\n",
            "100/100 - 0s - 3ms/step - accuracy: 0.9997 - loss: 6.3300e-04 - val_accuracy: 0.9950 - val_loss: 0.0257\n",
            "Epoch 83/100\n",
            "100/100 - 0s - 3ms/step - accuracy: 1.0000 - loss: 5.8856e-04 - val_accuracy: 0.9950 - val_loss: 0.0263\n",
            "Epoch 84/100\n",
            "100/100 - 0s - 3ms/step - accuracy: 1.0000 - loss: 6.0911e-04 - val_accuracy: 0.9950 - val_loss: 0.0254\n",
            "Epoch 85/100\n",
            "100/100 - 0s - 3ms/step - accuracy: 1.0000 - loss: 5.5517e-04 - val_accuracy: 0.9950 - val_loss: 0.0252\n",
            "Epoch 86/100\n",
            "100/100 - 0s - 3ms/step - accuracy: 1.0000 - loss: 5.1629e-04 - val_accuracy: 0.9950 - val_loss: 0.0247\n",
            "Epoch 87/100\n",
            "100/100 - 0s - 3ms/step - accuracy: 1.0000 - loss: 4.5281e-04 - val_accuracy: 0.9950 - val_loss: 0.0252\n",
            "Epoch 88/100\n",
            "100/100 - 0s - 3ms/step - accuracy: 1.0000 - loss: 4.6413e-04 - val_accuracy: 0.9950 - val_loss: 0.0240\n",
            "Epoch 89/100\n",
            "100/100 - 0s - 3ms/step - accuracy: 1.0000 - loss: 4.2493e-04 - val_accuracy: 0.9950 - val_loss: 0.0248\n",
            "Epoch 90/100\n",
            "100/100 - 0s - 3ms/step - accuracy: 1.0000 - loss: 3.9707e-04 - val_accuracy: 0.9950 - val_loss: 0.0247\n",
            "Epoch 91/100\n",
            "100/100 - 0s - 3ms/step - accuracy: 1.0000 - loss: 3.5185e-04 - val_accuracy: 0.9950 - val_loss: 0.0255\n",
            "Epoch 92/100\n",
            "100/100 - 0s - 3ms/step - accuracy: 1.0000 - loss: 3.4393e-04 - val_accuracy: 0.9950 - val_loss: 0.0253\n",
            "Epoch 93/100\n",
            "100/100 - 0s - 3ms/step - accuracy: 1.0000 - loss: 3.4352e-04 - val_accuracy: 0.9950 - val_loss: 0.0250\n",
            "Epoch 94/100\n",
            "100/100 - 0s - 3ms/step - accuracy: 1.0000 - loss: 2.9782e-04 - val_accuracy: 0.9950 - val_loss: 0.0253\n",
            "Epoch 95/100\n",
            "100/100 - 0s - 3ms/step - accuracy: 1.0000 - loss: 2.9031e-04 - val_accuracy: 0.9950 - val_loss: 0.0248\n",
            "Epoch 96/100\n",
            "100/100 - 0s - 3ms/step - accuracy: 1.0000 - loss: 2.6856e-04 - val_accuracy: 0.9950 - val_loss: 0.0247\n",
            "Epoch 97/100\n",
            "100/100 - 0s - 3ms/step - accuracy: 1.0000 - loss: 2.5759e-04 - val_accuracy: 0.9950 - val_loss: 0.0243\n",
            "Epoch 98/100\n",
            "100/100 - 0s - 3ms/step - accuracy: 1.0000 - loss: 2.3058e-04 - val_accuracy: 0.9950 - val_loss: 0.0257\n",
            "Epoch 99/100\n",
            "100/100 - 0s - 3ms/step - accuracy: 1.0000 - loss: 2.2493e-04 - val_accuracy: 0.9950 - val_loss: 0.0259\n",
            "Epoch 100/100\n",
            "100/100 - 0s - 4ms/step - accuracy: 1.0000 - loss: 2.2232e-04 - val_accuracy: 0.9950 - val_loss: 0.0245\n"
          ]
        }
      ],
      "source": [
        "# Fit your model and assign the output to \"history\"\n",
        "history = model.fit(\n",
        "    X_train, y_train, epochs=100, batch_size=32, validation_split=0.2, verbose=2\n",
        ")"
      ]
    },
    {
      "cell_type": "code",
      "execution_count": 23,
      "metadata": {
        "colab": {
          "base_uri": "https://localhost:8080/"
        },
        "id": "QdCSQmVINbhS",
        "outputId": "db5a415d-0940-4157-a030-9735976f35c7"
      },
      "outputs": [
        {
          "output_type": "execute_result",
          "data": {
            "text/plain": [
              "dict_keys(['accuracy', 'loss', 'val_accuracy', 'val_loss'])"
            ]
          },
          "metadata": {},
          "execution_count": 23
        }
      ],
      "source": [
        "history_dict = history.history\n",
        "history_dict.keys()"
      ]
    },
    {
      "cell_type": "code",
      "execution_count": 24,
      "metadata": {
        "colab": {
          "base_uri": "https://localhost:8080/",
          "height": 472
        },
        "id": "WD0auO73NcY1",
        "outputId": "7fc45e73-bd36-48f2-9732-026bdbf477e4"
      },
      "outputs": [
        {
          "output_type": "display_data",
          "data": {
            "text/plain": [
              "<Figure size 640x480 with 1 Axes>"
            ],
            "image/png": "[encoded data removed]"
          },
          "metadata": {}
        }
      ],
      "source": [
        "loss_values = history_dict[\"loss\"]\n",
        "val_loss_values = history_dict[\"val_loss\"]\n",
        "epochs = range(1, len(loss_values) + 1)\n",
        "plt.plot(epochs, loss_values, \"bo\", label=\"Training loss\")\n",
        "plt.plot(epochs, val_loss_values, \"b\", label=\"Validation loss\")\n",
        "plt.title(\"Training and validation loss\")\n",
        "plt.xlabel(\"Epochs\")\n",
        "plt.ylabel(\"Loss\")\n",
        "plt.legend()\n",
        "plt.show()"
      ]
    },
    {
      "cell_type": "code",
      "execution_count": 25,
      "metadata": {
        "colab": {
          "base_uri": "https://localhost:8080/",
          "height": 472
        },
        "id": "tcOkjBScNdyf",
        "outputId": "fb010d9a-b625-4689-8e74-4d31dd032d51"
      },
      "outputs": [
        {
          "output_type": "display_data",
          "data": {
            "text/plain": [
              "<Figure size 640x480 with 1 Axes>"
            ],
            "image/png": "[encoded data removed]"
          },
          "metadata": {}
        }
      ],
      "source": [
        "plt.clf()\n",
        "acc = history_dict[\"accuracy\"]\n",
        "val_acc = history_dict[\"val_accuracy\"]\n",
        "plt.plot(epochs, acc, \"bo\", label=\"Training acc\")\n",
        "plt.plot(epochs, val_acc, \"b\", label=\"Validation acc\")\n",
        "plt.title(\"Training and validation accuracy\")\n",
        "plt.xlabel(\"Epochs\")\n",
        "plt.ylabel(\"Accuracy\")\n",
        "plt.legend()\n",
        "plt.show()"
      ]
    },
    {
      "cell_type": "markdown",
      "metadata": {
        "id": "pS8iR5tTNfpT"
      },
      "source": [
        "## Evaluate the model\n",
        "\n",
        "Let's see **how well the model does on the test set**.\n",
        "\n",
        "`model.evaluate` is a very handy function to calculate the performance of your model on any dataset."
      ]
    },
    {
      "cell_type": "code",
      "execution_count": 26,
      "metadata": {
        "colab": {
          "base_uri": "https://localhost:8080/"
        },
        "id": "iHaJ8-XmNgKX",
        "outputId": "3bb3bfcc-171e-4782-983d-10ac597fb291"
      },
      "outputs": [
        {
          "output_type": "stream",
          "name": "stdout",
          "text": [
            "\u001b[1m32/32\u001b[0m \u001b[32m━━━━━━━━━━━━━━━━━━━━\u001b[0m\u001b[37m\u001b[0m \u001b[1m0s\u001b[0m 2ms/step - accuracy: 0.9856 - loss: 0.0876  \n"
          ]
        }
      ],
      "source": [
        "# Getting the results of your model for grading\n",
        "score, acc = model.evaluate(X_test, y_test)"
      ]
    },
    {
      "cell_type": "code",
      "execution_count": 27,
      "metadata": {
        "colab": {
          "base_uri": "https://localhost:8080/",
          "height": 178
        },
        "id": "vk0Wto1jNiP9",
        "outputId": "43daa25c-b6b6-4962-f874-5a338d117290"
      },
      "outputs": [
        {
          "output_type": "execute_result",
          "data": {
            "text/plain": [
              "Target\n",
              "1.0    0.584034\n",
              "0.0    0.415966\n",
              "Name: proportion, dtype: float64"
            ],
            "text/html": [
              "<div>\n",
              "<style scoped>\n",
              "    .dataframe tbody tr th:only-of-type {\n",
              "        vertical-align: middle;\n",
              "    }\n",
              "\n",
              "    .dataframe tbody tr th {\n",
              "        vertical-align: top;\n",
              "    }\n",
              "\n",
              "    .dataframe thead th {\n",
              "        text-align: right;\n",
              "    }\n",
              "</style>\n",
              "<table border=\"1\" class=\"dataframe\">\n",
              "  <thead>\n",
              "    <tr style=\"text-align: right;\">\n",
              "      <th></th>\n",
              "      <th>proportion</th>\n",
              "    </tr>\n",
              "    <tr>\n",
              "      <th>Target</th>\n",
              "      <th></th>\n",
              "    </tr>\n",
              "  </thead>\n",
              "  <tbody>\n",
              "    <tr>\n",
              "      <th>1.0</th>\n",
              "      <td>0.584034</td>\n",
              "    </tr>\n",
              "    <tr>\n",
              "      <th>0.0</th>\n",
              "      <td>0.415966</td>\n",
              "    </tr>\n",
              "  </tbody>\n",
              "</table>\n",
              "</div><br><label><b>dtype:</b> float64</label>"
            ]
          },
          "metadata": {},
          "execution_count": 27
        }
      ],
      "source": [
        "y.value_counts(normalize=True)"
      ]
    },
    {
      "cell_type": "code",
      "execution_count": 30,
      "metadata": {
        "colab": {
          "base_uri": "https://localhost:8080/",
          "height": 487
        },
        "id": "5JvDAkbKMC2_",
        "outputId": "9e4bf76b-5e1f-4f0f-cc6a-11e18ada3759"
      },
      "outputs": [
        {
          "output_type": "display_data",
          "data": {
            "text/plain": [
              "<Figure size 1000x500 with 1 Axes>"
            ],
            "image/png": "[encoded data removed]"
          },
          "metadata": {}
        }
      ],
      "source": [
        "# Selecting a specific row (e.g., row index 300)\n",
        "row_index = 300\n",
        "y_values = X_train[row_index, :]\n",
        "x_values = range(X_train.shape[1])  # X-axis: 0 to 139\n",
        "\n",
        "# Plotting\n",
        "plt.figure(figsize=(10, 5))\n",
        "plt.plot(x_values, y_values, linestyle=\"-\")\n",
        "plt.xlabel(\"X-Axis (Index)\")\n",
        "plt.ylabel(\"Y-Axis (Values)\")\n",
        "plt.title(f\"Plot of Row {row_index}\")\n",
        "plt.grid(True)\n",
        "plt.show()"
      ]
    },
    {
      "cell_type": "code",
      "execution_count": 31,
      "metadata": {
        "colab": {
          "base_uri": "https://localhost:8080/"
        },
        "id": "faYbTVGMNH2H",
        "outputId": "b840f8e7-f2fa-4ca3-e4d5-2b19697d3dc9"
      },
      "outputs": [
        {
          "output_type": "stream",
          "name": "stdout",
          "text": [
            "0.0\n"
          ]
        }
      ],
      "source": [
        "print(y_train[row_index])  # Result is abnormal scan for row_index=300"
      ]
    }
  ],
  "metadata": {
    "colab": {
      "provenance": []
    },
    "kernelspec": {
      "display_name": "Python 3",
      "name": "python3"
    },
    "language_info": {
      "name": "python"
    }
  },
  "nbformat": 4,
  "nbformat_minor": 0
}